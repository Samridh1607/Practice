{
  "cells": [
    {
      "cell_type": "markdown",
      "metadata": {
        "id": "XGr9FIC3WRM9"
      },
      "source": [
        "##Introduction to programming exercises"
      ]
    },
    {
      "cell_type": "markdown",
      "metadata": {
        "id": "c2lCEPEzgCr-"
      },
      "source": [
        "Create a program that displays your name and complete mailing address formatted in the manner that you would usually see it on the outside of an envelope. Your program does not need to read any input from the user."
      ]
    },
    {
      "cell_type": "code",
      "execution_count": null,
      "metadata": {
        "colab": {
          "base_uri": "https://localhost:8080/"
        },
        "id": "KgwTxJMu7eMB",
        "outputId": "594352e1-8451-43e0-d262-bdf9c5febc46"
      },
      "outputs": [
        {
          "name": "stdout",
          "output_type": "stream",
          "text": [
            "Samridh Khaneja \n",
            "House No. 70, \n",
            "Lane No. 15, \n",
            "Delhi, \n",
            "India.\n"
          ]
        }
      ],
      "source": [
        "print(\"Samridh Khaneja \\nHouse No. 70, \\nLane No. 15, \\nDelhi, \\nIndia.\")"
      ]
    },
    {
      "cell_type": "markdown",
      "metadata": {
        "id": "yOgcf0s5yHBi"
      },
      "source": [
        "Write a program that asks the user to enter his or her name. The program should respond with a message that says hello to the user, using his or her name."
      ]
    },
    {
      "cell_type": "code",
      "execution_count": null,
      "metadata": {
        "colab": {
          "base_uri": "https://localhost:8080/"
        },
        "id": "2x6VpsaF7hZ7",
        "outputId": "b8e1dafe-73e9-4fca-e962-6c5d3cbc63dd"
      },
      "outputs": [
        {
          "name": "stdout",
          "output_type": "stream",
          "text": [
            "Samridh\n",
            "Hello, Samridh!\n"
          ]
        }
      ],
      "source": [
        "i = str(input())\n",
        "print(f\"Hello, {i}!\")"
      ]
    },
    {
      "cell_type": "markdown",
      "metadata": {
        "id": "8WgVmS6mjr54"
      },
      "source": [
        "Write a program that asks the user to enter the width and length of a room. Once the values have been read, your program should compute and display the area of the room. The length and the width will be entered as floating point numbers. Include units in your prompt and output message; either feet or meters, depending on which unit you are more comfortable working with"
      ]
    },
    {
      "cell_type": "code",
      "execution_count": null,
      "metadata": {
        "colab": {
          "base_uri": "https://localhost:8080/"
        },
        "id": "A8VXpxth7hcd",
        "outputId": "5d04113a-d3ef-4be4-889c-bc784b0770f6"
      },
      "outputs": [
        {
          "name": "stdout",
          "output_type": "stream",
          "text": [
            "Enter the length(metres): 6\n",
            "Enter the breadth(metres): 8\n",
            "The area of the room is: 48\n"
          ]
        }
      ],
      "source": [
        "i = int(input(\"Enter the length(metres): \"))\n",
        "j = int(input(\"Enter the breadth(metres): \"))\n",
        "print(\"The area of the room is:\", i * j)"
      ]
    },
    {
      "cell_type": "markdown",
      "metadata": {
        "id": "lvTd0nMnkXdj"
      },
      "source": [
        "Create a program that reads the length and width of a farmer’s field from the user in feet. Display the area of the field in acres."
      ]
    },
    {
      "cell_type": "code",
      "execution_count": null,
      "metadata": {
        "colab": {
          "base_uri": "https://localhost:8080/"
        },
        "id": "MznMjCAQ7hf7",
        "outputId": "c6f9d06e-4725-4f81-9660-47b5ca194b9e"
      },
      "outputs": [
        {
          "name": "stdout",
          "output_type": "stream",
          "text": [
            "Enter the length(feet): 900\n",
            "Enter the breadth(feet): 950\n",
            "The area(acre) of the room is: 19\n"
          ]
        }
      ],
      "source": [
        "i = int(input(\"Enter the length(feet): \"))\n",
        "j = int(input(\"Enter the breadth(feet): \"))\n",
        "print(\"The area(acre) of the room is:\", (i * j)//43560)"
      ]
    },
    {
      "cell_type": "markdown",
      "metadata": {
        "id": "3uA7we85k2iH"
      },
      "source": [
        "In many jurisdictions a small deposit is added to drink containers to encourage people to recycle them. In one particular jurisdiction, drink containers holding one liter or less have a 0.10 deposit, and drink containers holding more than one liter have a 0.25 deposit.\n",
        "Write a program that reads the number of containers of each size from the user. Your program should continue by computing and displaying the refund that will be received for returning those containers. Format the output so that it includes a dollar\n",
        "sign and always displays exactly two decimal places."
      ]
    },
    {
      "cell_type": "code",
      "execution_count": null,
      "metadata": {
        "colab": {
          "base_uri": "https://localhost:8080/"
        },
        "id": "YZxRSxJI7iUf",
        "outputId": "b5c27ca0-d3fb-4a45-9999-59a8f41127d8"
      },
      "outputs": [
        {
          "name": "stdout",
          "output_type": "stream",
          "text": [
            "The number of container with less than 1 litre quantity: 10\n",
            "The number of container with more than 1 litre quantity: 4\n",
            "Refund value is: $2.00\n"
          ]
        }
      ],
      "source": [
        "i = int(input(\"The number of container with less than 1 litre quantity: \"))\n",
        "j = int(input(\"The number of container with more than 1 litre quantity: \"))\n",
        "refund = (0.10 * i) + (0.25 * j)\n",
        "print(f\"Refund value is: ${refund:.2f}\")"
      ]
    },
    {
      "cell_type": "markdown",
      "metadata": {
        "id": "fFMsW5GNWnGd"
      },
      "source": [
        "The program that you create for this exercise will begin by reading the cost of a meal ordered at a restaurant from the user. Then your program will compute the tax and tip for the meal. Use your local tax rate when computing the amount of tax owing.\n",
        "Compute the tip as 18 percent of the meal amount (without the tax). The output from your program should include the tax amount, the tip amount, and the grand total for the meal including both the tax and the tip. Format the output so that all of the values are displayed using two decimal places."
      ]
    },
    {
      "cell_type": "code",
      "execution_count": null,
      "metadata": {
        "colab": {
          "base_uri": "https://localhost:8080/"
        },
        "id": "oe3ex8J0WyZA",
        "outputId": "a88ee0ca-b28b-42d7-e5db-ceca56c27cf9"
      },
      "outputs": [
        {
          "name": "stdout",
          "output_type": "stream",
          "text": [
            "Enter the cost of your meal: 1000\n",
            "Tip amount: 180.00, Tax amount: 50.00 and Grand total: 1230.00\n"
          ]
        }
      ],
      "source": [
        "i = float(input(\"Enter the cost of your meal: \"))\n",
        "tip = 0.18 * i\n",
        "tax = 0.05 * i\n",
        "total = i + tip + tax\n",
        "print(f\"Tip amount: {tip:.2f}, Tax amount: {tax:.2f} and Grand total: {total:.2f}\")"
      ]
    },
    {
      "cell_type": "markdown",
      "metadata": {
        "id": "TVHmLtL-XzAQ"
      },
      "source": [
        "Write a program that reads a positive integer, n, from the user and then displays the sum of all of the integers from 1 to n. The sum of the first n positive integers can be computed using the formula:\n",
        "sum = (n)(n + 1)/2"
      ]
    },
    {
      "cell_type": "code",
      "execution_count": null,
      "metadata": {
        "colab": {
          "base_uri": "https://localhost:8080/"
        },
        "id": "suaHcppQXtmM",
        "outputId": "c730b43d-ed3e-45a2-f690-8600ed33ec8c"
      },
      "outputs": [
        {
          "name": "stdout",
          "output_type": "stream",
          "text": [
            "Enter the number n: 100\n",
            "Sum of the first 100 integers is 5050\n"
          ]
        }
      ],
      "source": [
        "n = int(input(\"Enter the number n: \"))\n",
        "sum = (n * (n + 1))//2\n",
        "print(f\"Sum of the first {n} integers is {sum}\")"
      ]
    },
    {
      "cell_type": "markdown",
      "metadata": {
        "id": "IRozWoguYRLP"
      },
      "source": [
        "An online retailer sells two products: widgets and gizmos. Each widget weighs 75\n",
        "grams. Each gizmo weighs 112 grams. Write a program that reads the number of\n",
        "widgets and the number of gizmos in an order from the user. Then your program\n",
        "should compute and display the total weight of the order."
      ]
    },
    {
      "cell_type": "code",
      "execution_count": null,
      "metadata": {
        "colab": {
          "base_uri": "https://localhost:8080/"
        },
        "id": "2hOY1iJYYVGA",
        "outputId": "a83a5acf-4d73-479f-dc61-4b86e37fdd84"
      },
      "outputs": [
        {
          "name": "stdout",
          "output_type": "stream",
          "text": [
            "Enter the number of widgets: 100\n",
            "Enter the number of gizmos: 200\n",
            "The total weight of the order is 29.90Kg(s)\n"
          ]
        }
      ],
      "source": [
        "i = int(input(\"Enter the number of widgets: \"))\n",
        "j = int(input(\"Enter the number of gizmos: \"))\n",
        "k = (0.075 * i) + (0.112 * j)\n",
        "print(f\"The total weight of the order is {k:.2f}Kg(s)\")"
      ]
    },
    {
      "cell_type": "markdown",
      "metadata": {
        "id": "SuRK2-ATZUK-"
      },
      "source": [
        "Pretend that you have just opened a new savings account that earns 4 percent interest per year. The interest that you earn is paid at the end of the year, and is added to the balance of the savings account. Write a program that begins by reading the amount of money deposited into the account from the user. Then your program should compute and display the amount in the savings account after 1, 2, and 3 years. Display\n",
        "each amount so that it is rounded to 2 decimal places."
      ]
    },
    {
      "cell_type": "code",
      "execution_count": null,
      "metadata": {
        "colab": {
          "base_uri": "https://localhost:8080/"
        },
        "id": "skGirhNzaZPw",
        "outputId": "4cbd5971-c167-4e06-91eb-ba41286368f1"
      },
      "outputs": [
        {
          "name": "stdout",
          "output_type": "stream",
          "text": [
            "Enter the deposited amount: 100\n",
            "Amount after 1 year: Rs 104.0 \n",
            "Amount after 2 years: Rs 108.16 \n",
            "Amount after 3 years: Rs 112.49  \n"
          ]
        }
      ],
      "source": [
        "i = float(input(\"Enter the deposited amount: \"))\n",
        "a1 = i + (i * 0.04)\n",
        "a2 = a1 + (a1 * 0.04)\n",
        "a3 = a2 + (a2 * 0.04)\n",
        "print(f\"Amount after 1 year: Rs {round(a1,2)} \\nAmount after 2 years: Rs {round(a2,2)} \\nAmount after 3 years: Rs {round(a3,2)}  \")\n"
      ]
    },
    {
      "cell_type": "markdown",
      "metadata": {
        "id": "owj8iQdjbz4G"
      },
      "source": [
        "Create a program that reads two integers, a and b, from the user. Your program should compute and display:\n",
        "• The sum of a and b\n",
        "• The difference when b is subtracted from a\n",
        "• The product of a and b\n",
        "• The quotient when a is divided by b\n",
        "• The remainder when a is divided by b\n",
        "• The result of log10 a\n",
        "• The result of a^b"
      ]
    },
    {
      "cell_type": "code",
      "execution_count": null,
      "metadata": {
        "colab": {
          "base_uri": "https://localhost:8080/"
        },
        "id": "3g8kcy3HcDIt",
        "outputId": "c8cfaeaf-adb3-4447-ac5d-5f83280c0042"
      },
      "outputs": [
        {
          "name": "stdout",
          "output_type": "stream",
          "text": [
            "Enter integers a: 5\n",
            "Enter integers b: 2\n",
            "The sum of a and b is 7\n",
            "The difference of a and b is 3\n",
            "The product of a and b is 10\n",
            "The quotient when a is divided by b is 2\n",
            "The remainder when a is divided by b is 1\n",
            "The result of log10 (a) is 0.6989700043360189\n",
            "The result of a ^ b is 25.0\n"
          ]
        }
      ],
      "source": [
        "import math\n",
        "a = int(input(\"Enter integers a: \"))\n",
        "b = int(input(\"Enter integers b: \"))\n",
        "print(\"The sum of a and b is\", a + b)\n",
        "print(\"The difference of a and b is\", a - b)\n",
        "print(\"The product of a and b is\", a * b)\n",
        "print(\"The quotient when a is divided by b is\", a //b)\n",
        "print(\"The remainder when a is divided by b is\", a % b)\n",
        "print(\"The result of log10 (a) is\", math.log10(a))\n",
        "print(\"The result of a ^ b is\", math.pow(a, b))"
      ]
    },
    {
      "cell_type": "markdown",
      "metadata": {
        "id": "XOsVTSD9faSX"
      },
      "source": [
        "In the United States, fuel efficiency for vehicles is normally expressed in miles per gallon (MPG). In Canada, fuel efficiency is normally expressed in liters-per-hundred kilometers (L/100 km). Use your research skills to determine how to convert from MPG to L/100 km. Then create a program that reads a value from the user in American units and displays the equivalent fuel efficiency in Canadian units."
      ]
    },
    {
      "cell_type": "code",
      "execution_count": null,
      "metadata": {
        "colab": {
          "base_uri": "https://localhost:8080/"
        },
        "id": "fbcozkVeYXm2",
        "outputId": "9acf430f-e880-4301-91dc-990a774b6ea8"
      },
      "outputs": [
        {
          "name": "stdout",
          "output_type": "stream",
          "text": [
            "Fuel efficiency in American units: 100\n",
            "Fuel efficiency in Canadian units:  23521.5\n"
          ]
        }
      ],
      "source": [
        "i = float(input(\"Fuel efficiency in American units: \"))\n",
        "print(\"Fuel efficiency in Canadian units: \", round(i * 235.215,2))"
      ]
    },
    {
      "cell_type": "markdown",
      "metadata": {
        "id": "3rW05sf3ZDEi"
      },
      "source": [
        "The surface of the Earth is curved, and the distance between degrees of longitude varies with latitude. As a result, finding the distance between two points on the surface of the Earth is more complicated than simply using the Pythagorean theorem.\n",
        "Let (t1, g1) and (t2, g2) be the latitude and longitude of two points on the Earth’s surface. The distance between these points, following the surface of the Earth, in kilometers is:\n",
        "distance = 6371.01 × arccos(sin(t1) × sin(t2) + cos(t1) × cos(t2) × cos(g1 − g2))\n",
        "Create a program that allows the user to enter the latitude and longitude of two points on the Earth in degrees. Your program should display the distance between the points, following the surface of the earth, in kilometers."
      ]
    },
    {
      "cell_type": "code",
      "execution_count": null,
      "metadata": {
        "colab": {
          "base_uri": "https://localhost:8080/"
        },
        "id": "nN85_0reZyP3",
        "outputId": "5054fe55-256a-46ba-fe6a-46b69913cf1e"
      },
      "outputs": [
        {
          "name": "stdout",
          "output_type": "stream",
          "text": [
            "Enter t1 and g1 separated by a ',': 120, 150\n",
            "Enter t2 and g2 separated by a ',': 180, 180\n",
            "The distance between two points is: 7154.414426815357 Km(s)\n"
          ]
        }
      ],
      "source": [
        "import math\n",
        "t1, g1 = map(float, input(\"Enter t1 and g1 separated by a ',': \").split(','))\n",
        "t2, g2 = map(float, input(\"Enter t2 and g2 separated by a ',': \").split(','))\n",
        "\n",
        "t1 = math.radians(t1)\n",
        "g1 = math.radians(g1)\n",
        "t2 = math.radians(t2)\n",
        "g2 = math.radians(g2)\n",
        "\n",
        "distance = 6371.01 * math.acos(math.sin(t1) * math.sin(t2) + math.cos(t1) * math.cos(t2) * math.cos(g1 - g2))\n",
        "print(f\"The distance between two points is: {distance} Km(s)\")\n"
      ]
    },
    {
      "cell_type": "markdown",
      "metadata": {
        "id": "RZK8XhWUnqhN"
      },
      "source": [
        "Consider the software that runs on a self-checkout machine. One task that it must be able to perform is to determine how much change to provide when the shopper pays for a purchase with cash.\n",
        "Write a program that begins by reading a number of cents from the user as an integer. Then your program should compute and display the denominations of the coins that should be used to give that amount of change to the shopper. The change should be given using as few coins as possible. Assume that the machine is loaded with pennies, nickels, dimes, quarters, loonies and toonies."
      ]
    },
    {
      "cell_type": "code",
      "execution_count": null,
      "metadata": {
        "colab": {
          "base_uri": "https://localhost:8080/"
        },
        "id": "t6NQyXoMgeHD",
        "outputId": "a6601f1c-7867-4994-ec0b-fa60092daea7"
      },
      "outputs": [
        {
          "name": "stdout",
          "output_type": "stream",
          "text": [
            "Enter the number of cents: 225\n",
            "Toonies: 1 Loonies: 0 Quarters: 1 Dimes: 0 Nickels: 0 Pennies: 0\n"
          ]
        }
      ],
      "source": [
        "i = int(input(\"Enter the number of cents: \"))\n",
        "t = i // 200  # Number of Toonies\n",
        "i = i % 200\n",
        "l = i // 100  # Number of Loonies\n",
        "i = i % 100\n",
        "q = i // 25   # Number of Quarters\n",
        "i = i % 25\n",
        "d = i // 10   # Number of Dimes\n",
        "i = i % 10\n",
        "n = i // 5    # Number of Nickels\n",
        "i = i % 5\n",
        "p = i // 1    # Number of Pennies\n",
        "print(f\"Toonies: {t} Loonies: {l} Quarters: {q} Dimes: {d} Nickels: {n} Pennies: {p}\")\n"
      ]
    },
    {
      "cell_type": "markdown",
      "metadata": {
        "id": "XHSjqGzn-Zby"
      },
      "source": [
        "Many people think about their height in feet and inches, even in some countries that primarily use the metric system. Write a program that reads a number of feet from the user, followed by a number of inches. Once these values are read, your program should compute and display the equivalent number of centimeters."
      ]
    },
    {
      "cell_type": "code",
      "execution_count": null,
      "metadata": {
        "colab": {
          "base_uri": "https://localhost:8080/"
        },
        "id": "dwhKk-Fb-7Xh",
        "outputId": "d68597fa-74bf-4895-f787-3f8567444987"
      },
      "outputs": [
        {
          "name": "stdout",
          "output_type": "stream",
          "text": [
            "Enter the number of feet: 5\n",
            "Enter the number of inches: 5\n",
            "The result in centimetres is:  165.1\n"
          ]
        }
      ],
      "source": [
        "i = int(input(\"Enter the number of feet: \"))\n",
        "j = int(input(\"Enter the number of inches: \"))\n",
        "print(\"The result in centimetres is: \", (j * 2.54) + (i * 12 * 2.54))"
      ]
    },
    {
      "cell_type": "markdown",
      "metadata": {
        "id": "w4rN2s8N_hQn"
      },
      "source": [
        "In this exercise, you will create a program that begins by reading a measurement in feet from the user. Then your program should display the equivalent distance in inches, yards and miles. Use the Internet to look up the necessary conversion factors if you don’t have them memorized."
      ]
    },
    {
      "cell_type": "code",
      "execution_count": null,
      "metadata": {
        "colab": {
          "base_uri": "https://localhost:8080/"
        },
        "id": "bGLGspTc_nds",
        "outputId": "a6d14756-c47a-4bb2-df0f-230c84d22779"
      },
      "outputs": [
        {
          "name": "stdout",
          "output_type": "stream",
          "text": [
            "Enter the measurement in feet: 1100.5\n",
            "The number of inches in 1100.5 ft: 13206.0\n",
            "The number of yards in 1100.5 ft: 366.8336268\n",
            "The number of miles in 1100.5 ft: 0.20842826374247758\n"
          ]
        }
      ],
      "source": [
        "i = float(input(\"Enter the measurement in feet: \"))\n",
        "print(f\"The number of inches in {i} ft:\", i *12)\n",
        "print(f\"The number of yards in {i} ft:\", i * 12 * 0.0277778)\n",
        "print(f\"The number of miles in {i} ft:\", i * 12 * 0.0277778 * 0.000568182)"
      ]
    },
    {
      "cell_type": "markdown",
      "metadata": {
        "id": "1UArNHlMFHZ2"
      },
      "source": [
        "Write a program that begins by reading a radius, r, from the user. The program will continue by computing and displaying the area of a circle with radius r and the volume of a sphere with radius r. Use the pi constant in the math module in your calculations.\n"
      ]
    },
    {
      "cell_type": "code",
      "execution_count": null,
      "metadata": {
        "colab": {
          "base_uri": "https://localhost:8080/"
        },
        "id": "pGYnIQZiFNeb",
        "outputId": "f5c34b24-3ea3-42db-86c1-85aeff9f4eb4"
      },
      "outputs": [
        {
          "name": "stdout",
          "output_type": "stream",
          "text": [
            "Enter the radius: 63\n",
            "Area of the circle with radius 63.0:  12468.981242097889\n",
            "Area of the circle with radius 63.0:  1047394.4243362226\n"
          ]
        }
      ],
      "source": [
        "from math import pi\n",
        "r = float(input(\"Enter the radius: \"))\n",
        "print(f\"Area of the circle with radius {r}: \", pi*pow(r,2))\n",
        "print(f\"Area of the circle with radius {r}: \", 4/3 * pi * pow(r,3))"
      ]
    },
    {
      "cell_type": "markdown",
      "metadata": {
        "id": "ttzOAPTlYkHy"
      },
      "source": [
        "The amount of energy required to increase the temperature of one gram of a material by one degree Celsius is the material’s specific heat capacity, C. The total amount of energy required to raise m grams of a material by ∆T degrees Celsius can be computed using the formula:\n",
        "q = mC∆T.\n",
        "Write a program that reads the mass of some water and the temperature change from the user. Your program should display the total amount of energy that must be added or removed to achieve the desired temperature change.\n",
        "Extend your program so that it also computes the cost of heating the water. Electricity is normally billed using units of kilowatt hours rather than Joules. In this exercise, you should assume that electricity costs 8.9 cents per kilowatt-hour. Use your program to compute the cost of boiling water for a cup of coffee.\n"
      ]
    },
    {
      "cell_type": "code",
      "execution_count": null,
      "metadata": {
        "colab": {
          "base_uri": "https://localhost:8080/"
        },
        "id": "mt2wDK6jZA4G",
        "outputId": "a8accf7d-60be-4255-9261-e8cc6e8a50e1"
      },
      "outputs": [
        {
          "name": "stdout",
          "output_type": "stream",
          "text": [
            "Enter the mass of water: 1000\n",
            "Enter the change in temperature: 100\n",
            "Total amount of energy:  418600.0\n",
            "The cost is:  1.03\n"
          ]
        }
      ],
      "source": [
        "m = float(input(\"Enter the mass of water: \"))\n",
        "t = float(input(\"Enter the change in temperature: \"))\n",
        "print(\"Total amount of energy: \", 4.186 * m * t)\n",
        "print(\"The cost is: \", round((8.9 * 4.186 * m * t)/(3.6 * pow(10,6)),2))"
      ]
    },
    {
      "cell_type": "markdown",
      "metadata": {
        "id": "usi9GcebgfHE"
      },
      "source": [
        "The volume of a cylinder can be computed by multiplying the area of its circular base by its height. Write a program that reads the radius of the cylinder, along with its height, from the user and computes its volume. Display the result rounded to one\n",
        "decimal place"
      ]
    },
    {
      "cell_type": "code",
      "execution_count": null,
      "metadata": {
        "colab": {
          "base_uri": "https://localhost:8080/"
        },
        "id": "YED3ardQhej4",
        "outputId": "06a06efd-77e8-4df3-97bd-e2b783fa40c1"
      },
      "outputs": [
        {
          "name": "stdout",
          "output_type": "stream",
          "text": [
            "Enter the value of radius: 7\n",
            "Enter the value of height: 11\n",
            "Volume of cylinder with radius 7.0 and height 11.0 is:  1693.32\n"
          ]
        }
      ],
      "source": [
        "from math import pi\n",
        "r = float(input(\"Enter the value of radius: \"))\n",
        "h = float(input(\"Enter the value of height: \"))\n",
        "print(f\"Volume of cylinder with radius {r} and height {h} is: \", round(pi * r * r * h, 2))"
      ]
    },
    {
      "cell_type": "markdown",
      "metadata": {
        "id": "xghgQJ5JiVYd"
      },
      "source": [
        "Create a program that determines how quickly an object is traveling when it hits the ground. The user will enter the height from which the object is dropped in meters (m). Because the object is dropped its initial speed is 0 m/s. Assume that the acceleration due to gravity is 9.8 m/s^2. You can use the formula vf = (v^2 + 2ad)^1/2 to compute the final speed, vf, when the initial speed, vi, acceleration, a, and distance, d, are known."
      ]
    },
    {
      "cell_type": "code",
      "execution_count": null,
      "metadata": {
        "colab": {
          "base_uri": "https://localhost:8080/"
        },
        "id": "UaNJSkunkI70",
        "outputId": "1cc39bfc-c722-46c1-d7a9-ddcb8995aa9f"
      },
      "outputs": [
        {
          "name": "stdout",
          "output_type": "stream",
          "text": [
            "Enter the height: 10\n",
            "The final velocity is:  14.0\n"
          ]
        }
      ],
      "source": [
        "import math\n",
        "h = float(input(\"Enter the height: \"))\n",
        "print(\"The final velocity is: \", math.sqrt(2 * 9.8 * h))"
      ]
    },
    {
      "cell_type": "markdown",
      "metadata": {
        "id": "9dMAKfZoku84"
      },
      "source": [
        "The ideal gas law is a mathematical approximation of the behavior of gasses as pressure, volume and temperature change. It is usually stated as:\n",
        "PV = nRT\n",
        "where P is the pressure in Pascals, V is the volume in liters, n is the amount of substance in moles, R is the ideal gas constant, equal to 8.314 J/ mol K , and T is the temperature in degrees Kelvin.\n",
        "Write a program that computes the amount of gas in moles when the user supplies the pressure, volume and temperature. Test your program by determining the number of moles of gas in a SCUBA tank. A typical SCUBA tank holds 12 liters of gas at a pressure of 20,000,000 Pascals (approximately 3,000 PSI). Room temperature is approximately 20 degrees Celsius or 68 degrees Fahrenheit.\n"
      ]
    },
    {
      "cell_type": "code",
      "execution_count": null,
      "metadata": {
        "colab": {
          "base_uri": "https://localhost:8080/"
        },
        "id": "RQQKKij3mnpi",
        "outputId": "97399155-0132-430e-faf3-7c224534b842"
      },
      "outputs": [
        {
          "name": "stdout",
          "output_type": "stream",
          "text": [
            "Enter the pressure: 20000000\n",
            "Enter the volume: 12\n",
            "Enter the temperature(c): 20\n",
            "The number of moles: 98471.67447923153 \n"
          ]
        }
      ],
      "source": [
        "p = float(input(\"Enter the pressure: \"))\n",
        "v = float(input(\"Enter the volume: \"))\n",
        "t = float(input(\"Enter the temperature(c): \"))\n",
        "n = (p * v)/(8.314 * (t + 273.15))\n",
        "print(f\"The number of moles: {n} \")\n",
        "\n"
      ]
    },
    {
      "cell_type": "markdown",
      "metadata": {
        "id": "X_a4YEFancMw"
      },
      "source": [
        "The area of a triangle can be computed using the following formula, where b is the length of the base of the triangle, and h is its height:\n",
        "area = (b × h)/ 2\n",
        "Write a program that allows the user to enter values for b and h. The program should then compute and display the area of a triangle with base length b and height h.\n"
      ]
    },
    {
      "cell_type": "code",
      "execution_count": null,
      "metadata": {
        "colab": {
          "base_uri": "https://localhost:8080/"
        },
        "id": "O9q5jjS-njE3",
        "outputId": "c9522439-8baa-4eb7-cc9d-542e61b57e68"
      },
      "outputs": [
        {
          "name": "stdout",
          "output_type": "stream",
          "text": [
            "Enter the base of the triabngle: 25\n",
            "Enter the height of the triangle: 40\n",
            "Area of the triangle is:  500.0 sq.units\n"
          ]
        }
      ],
      "source": [
        "i = float(input(\"Enter the base of the triabngle: \"))\n",
        "j = float(input(\"Enter the height of the triangle: \"))\n",
        "print(\"Area of the triangle is: \", (j * i)//2,\"sq.units\")"
      ]
    },
    {
      "cell_type": "markdown",
      "metadata": {
        "id": "--jR6MlpoLLi"
      },
      "source": [
        "In the previous exercise you created a program that computed the area of a triangle when the length of its base and its height were known. It is also possible to compute the area of a triangle when the lengths of all three sides are known. Let s1, s2 and s3 be the lengths of the sides. Let s = (s1 + s2 + s3)/2. Then the area of the triangle can be calculated using the following formula:\n",
        "area = (s × (s − s1) × (s − s2) × (s − s3))^1/2\n",
        "Develop a program that reads the lengths of the sides of a triangle from the user and displays its area.\n"
      ]
    },
    {
      "cell_type": "code",
      "execution_count": null,
      "metadata": {
        "colab": {
          "base_uri": "https://localhost:8080/"
        },
        "id": "xk2E8jlHoa8Z",
        "outputId": "4aea7106-df51-4c9c-8589-258aac73f1c9"
      },
      "outputs": [
        {
          "name": "stdout",
          "output_type": "stream",
          "text": [
            "Enter side 1: 3\n",
            "Enter side 2: 4\n",
            "Enter side 3: 5\n",
            "Area of the triangle is:  6.0\n"
          ]
        }
      ],
      "source": [
        "import math\n",
        "i = float(input(\"Enter side 1: \"))\n",
        "j = float(input(\"Enter side 2: \"))\n",
        "k = float(input(\"Enter side 3: \"))\n",
        "s = (i + j + k)//2\n",
        "print(\"Area of the triangle is: \", math.sqrt(s*(s - i)*(s - j)*(s - k)))"
      ]
    },
    {
      "cell_type": "markdown",
      "metadata": {
        "id": "POuIOWpNpRDE"
      },
      "source": [
        "A polygon is regular if its sides are all the same length and the angles between all of the adjacent sides are equal. The area of a regular polygon can be computed using the following formula, where s is the length of a side and n is the number of sides:\n",
        "area = (n x s^2)//(4 x tan(pi/n))\n",
        "Write a program that reads s and n from the user and then displays the area of a regular polygon constructed from these values."
      ]
    },
    {
      "cell_type": "code",
      "execution_count": null,
      "metadata": {
        "colab": {
          "base_uri": "https://localhost:8080/"
        },
        "id": "Qn1AmFV8pl6X",
        "outputId": "4f234505-17c5-4c2e-9c36-271a75af1374"
      },
      "outputs": [
        {
          "name": "stdout",
          "output_type": "stream",
          "text": [
            "Enter the number of sides of a polygon: 3\n",
            "Enter the length of side of a polygon: 10\n",
            "Area of the ploygon is:  48.0 sq.units\n"
          ]
        }
      ],
      "source": [
        "import math\n",
        "n = int(input(\"Enter the number of sides of a polygon: \"))\n",
        "s = float(input(\"Enter the length of side of a polygon: \"))\n",
        "print(\"Area of the ploygon is: \", (n * math.pow(s,2)//(4 * math.tan(math.pi//n))),\"sq.units\")"
      ]
    },
    {
      "cell_type": "markdown",
      "metadata": {
        "id": "YFuo0ZO-qaHf"
      },
      "source": [
        "Create a program that reads a duration from the user as a number of days, hours, minutes, and seconds. Compute and display the total number of seconds represented by this duration."
      ]
    },
    {
      "cell_type": "code",
      "execution_count": null,
      "metadata": {
        "colab": {
          "base_uri": "https://localhost:8080/"
        },
        "id": "KshQZmdpqeWN",
        "outputId": "2de587be-5a1d-48a0-f5d0-a6990c09fdb3"
      },
      "outputs": [
        {
          "name": "stdout",
          "output_type": "stream",
          "text": [
            "Enter the number of days: 1\n",
            "Enter the number of hours: 0\n",
            "Enter the number of minutes: 0\n",
            "Enter the number of seconds: 0\n",
            "Total nuumber of seconds:  86400\n"
          ]
        }
      ],
      "source": [
        "i = int(input(\"Enter the number of days: \"))\n",
        "j = int(input(\"Enter the number of hours: \"))\n",
        "k = int(input(\"Enter the number of minutes: \"))\n",
        "l = int(input(\"Enter the number of seconds: \"))\n",
        "print(\"Total nuumber of seconds: \", (i * 24 * 60 * 60) + (j * 3600) + (k * 60) + l)"
      ]
    },
    {
      "cell_type": "markdown",
      "metadata": {
        "id": "lFrH307RsyA9"
      },
      "source": [
        "In this exercise you will reverse the process described in the previous exercise. Develop a program that begins by reading a number of seconds from the user. Then your program should display the equivalent amount of time in the form D:HH:MM:SS, where D, HH, MM, and SS represent days, hours, minutes and seconds respectively. The hours, minutes and seconds should all be formatted so that they occupy exactly two digits, with a leading 0 displayed if necessary."
      ]
    },
    {
      "cell_type": "code",
      "execution_count": null,
      "metadata": {
        "colab": {
          "base_uri": "https://localhost:8080/"
        },
        "id": "d_DIYEjjs6zn",
        "outputId": "60e854ba-f697-4a96-8bd7-03ed073f28ef"
      },
      "outputs": [
        {
          "name": "stdout",
          "output_type": "stream",
          "text": [
            "Enter the number of seconds: 100000\n",
            "Required duration: 1:03:46:40\n"
          ]
        }
      ],
      "source": [
        "i = int(input(\"Enter the number of seconds: \"))\n",
        "d = i // (24 * 60 * 60)\n",
        "i = i % (24 * 60 * 60)\n",
        "h = i // (60 * 60)\n",
        "i = i % (60 * 60)\n",
        "m = i // (60)\n",
        "i = i % (60)\n",
        "s = i // 1\n",
        "print(\"Required duration: %d:%02d:%02d:%02d\" %(d, h, m, s))"
      ]
    },
    {
      "cell_type": "markdown",
      "metadata": {
        "id": "k5pU-Aa2eD3S"
      },
      "source": [
        "Python includes a library of functions for working with time, including a function called asctime in the time module. It reads the current time from the computer’s internal clock and returns it in a human-readable format. Write a program that displays the current time and date. Your program will not require any input from the user."
      ]
    },
    {
      "cell_type": "code",
      "execution_count": null,
      "metadata": {
        "colab": {
          "base_uri": "https://localhost:8080/"
        },
        "id": "L2q54DXSeDGy",
        "outputId": "5eb59761-3f10-42c0-9415-05668ce2989b"
      },
      "outputs": [
        {
          "name": "stdout",
          "output_type": "stream",
          "text": [
            "Sun Mar 24 07:59:31 2024\n"
          ]
        }
      ],
      "source": [
        "import time\n",
        "print(time.asctime())"
      ]
    },
    {
      "cell_type": "markdown",
      "metadata": {
        "id": "m7bKf7inePii"
      },
      "source": [
        "Write a program that computes the body mass index (BMI) of an individual. Your program should begin by reading a height and weight from the user. Then it should use one of the following two formulas to compute the BMI before displaying it. If you read the height in inches and the weight in pounds then body mass index is computed using the following formula:\n",
        "BMI = (weight)/(height × height) × 703.\n",
        "If you read the height in meters and the weight in kilograms then body mass index is computed using this slightly simpler formula:\n",
        "BMI = (weight)/(height × height)."
      ]
    },
    {
      "cell_type": "code",
      "execution_count": null,
      "metadata": {
        "colab": {
          "base_uri": "https://localhost:8080/"
        },
        "id": "7YhrGKKVfpE8",
        "outputId": "85016de0-40fb-4408-e6f3-786e1b249385"
      },
      "outputs": [
        {
          "name": "stdout",
          "output_type": "stream",
          "text": [
            "Enter the height in inches: 40\n",
            "Enter the weight in pounds: 20\n",
            "BMI: 8.0\n"
          ]
        }
      ],
      "source": [
        "h = float(input(\"Enter the height in inches: \"))\n",
        "w = float(input(\"Enter the weight in pounds: \"))\n",
        "print(\"BMI:\",(w * 703)//(h * h))"
      ]
    },
    {
      "cell_type": "markdown",
      "metadata": {
        "id": "ZLuPcZoihrVM"
      },
      "source": [
        "When the wind blows in cold weather, the air feels even colder than it actually is because the movement of the air increases the rate of cooling for warm objects, like people. This effect is known as wind chill.\n",
        "In 2001, Canada, the United Kingdom and the United States adopted the following formula for computing the wind chill index. Within the formula Ta is the air temperature in degrees Celsius and V is the wind speed in kilometers per hour.\n",
        "A similar formula with different constant values can be used with temperatures in degrees Fahrenheit and wind speeds in miles per hour.\n",
        "WCI = 13.12 + 0.6215Ta − 11.37V^0.16 + 0.3965TaV^0.16\n",
        "Write a program that begins by reading the air temperature and wind speed from the user. Once these values have been read your program should display the wind chill index rounded to the closest integer."
      ]
    },
    {
      "cell_type": "code",
      "execution_count": null,
      "metadata": {
        "colab": {
          "base_uri": "https://localhost:8080/"
        },
        "id": "433aBhEbiXjN",
        "outputId": "15266bdc-2394-44f7-d226-43342e8cf5f2"
      },
      "outputs": [
        {
          "name": "stdout",
          "output_type": "stream",
          "text": [
            "Enter the temperature values in celsius: 25\n",
            "Enter the wind speed values in Km/hr: 100\n",
            "Wind chill index: 26\n"
          ]
        }
      ],
      "source": [
        "t = float(input(\"Enter the temperature values in celsius: \"))\n",
        "v = float(input(\"Enter the wind speed values in Km/hr: \"))\n",
        "print(\"Wind chill index:\", round((13.12 + (0.6215 * t) - (11.3 * pow(v,0.16)) + (0.3965 * t * pow(v,0.16)))))"
      ]
    },
    {
      "cell_type": "markdown",
      "metadata": {
        "id": "TM6NWdR8jv2j"
      },
      "source": [
        "Write a program that begins by reading a temperature from the user in degrees Celsius. Then your program should display the equivalent temperature in degrees Fahrenheit and degrees Kelvin. The calculations needed to convert between different units of temperature can be found on the internet.\n"
      ]
    },
    {
      "cell_type": "code",
      "execution_count": null,
      "metadata": {
        "colab": {
          "base_uri": "https://localhost:8080/"
        },
        "id": "KXMlVgXcj2nz",
        "outputId": "8716b93b-bdd0-4049-c870-bca37a094a83"
      },
      "outputs": [
        {
          "name": "stdout",
          "output_type": "stream",
          "text": [
            "Enter the temperature in Celsius: 100\n",
            "Fahrenheit: 212.0\n",
            "Celsius: 373.15\n"
          ]
        }
      ],
      "source": [
        "c = float(input(\"Enter the temperature in Celsius: \"))\n",
        "f = (c * 9/5) + 32\n",
        "k = c + 273.15\n",
        "print(f\"Fahrenheit: {f}\")\n",
        "print(f\"Celsius: {k}\")"
      ]
    },
    {
      "cell_type": "markdown",
      "metadata": {
        "id": "57UqSyvvNI2N"
      },
      "source": [
        "Develop a program that reads a four-digit integer from the user and displays the sum of the digits in the number. For example, if the user enters 3141 then your program should display 3+1+4+1=9."
      ]
    },
    {
      "cell_type": "code",
      "execution_count": null,
      "metadata": {
        "colab": {
          "base_uri": "https://localhost:8080/"
        },
        "id": "B0JD8iNSNrxH",
        "outputId": "bd376bd6-cafb-43cf-af02-23d0f1e1f273"
      },
      "outputs": [
        {
          "name": "stdout",
          "output_type": "stream",
          "text": [
            "Enter a 4 digit number: 2341\n",
            "2+3+4+1=10\n"
          ]
        }
      ],
      "source": [
        "num = input(\"Enter a 4 digit number: \")\n",
        "i = int(num[0])\n",
        "j = int(num[1])\n",
        "k = int(num[2])\n",
        "l = int(num[3])\n",
        "sum = i + j + k + l\n",
        "print(f\"{i}+{j}+{k}+{l}={sum}\")"
      ]
    },
    {
      "cell_type": "markdown",
      "metadata": {
        "id": "RerfJqH7O9F5"
      },
      "source": [
        "Create a program that reads three integers from the user and displays them in sorted order (from smallest to largest). Use the min and max functions to find the smallest and largest values. The middle value can be found by computing the sum of all three values, and then subtracting the minimum value and the maximum value."
      ]
    },
    {
      "cell_type": "code",
      "execution_count": null,
      "metadata": {
        "colab": {
          "base_uri": "https://localhost:8080/"
        },
        "id": "GSm_mV5LPBw4",
        "outputId": "7374982f-4f13-4976-92cb-7f7c8b62ef1f"
      },
      "outputs": [
        {
          "name": "stdout",
          "output_type": "stream",
          "text": [
            "Enter the first integer: 25\n",
            "Enter the second integer: 50\n",
            "Enter the second integer: 21\n",
            "Sorted order: 21, 25, 50\n"
          ]
        }
      ],
      "source": [
        "a = int(input(\"Enter the first integer: \"))\n",
        "b = int(input(\"Enter the second integer: \"))\n",
        "c = int(input(\"Enter the second integer: \"))\n",
        "sum = a + b + c\n",
        "m1 = min(a, b, c)\n",
        "m2 = max(a, b, c)\n",
        "mid = sum - m1 - m2\n",
        "print(f\"Sorted order: {m1}, {mid}, {m2}\")"
      ]
    },
    {
      "cell_type": "markdown",
      "metadata": {
        "id": "yelXVJalQMLJ"
      },
      "source": [
        "A bakery sells loaves of bread for $3.49 each. Day old bread is discounted by 60 percent. Write a program that begins by reading the number of loaves of day old bread being purchased from the user. Then your program should display the regular price for the bread, the discount because it is a day old, and the total price. All of the values should be displayed using two decimal places, and the decimal points in all of the numbers should be aligned when reasonable values are entered by the user."
      ]
    },
    {
      "cell_type": "code",
      "execution_count": null,
      "metadata": {
        "colab": {
          "base_uri": "https://localhost:8080/"
        },
        "id": "km5Wc7YqShlL",
        "outputId": "02c7f05c-3dc2-411a-a3ce-fb95901b1df2"
      },
      "outputs": [
        {
          "name": "stdout",
          "output_type": "stream",
          "text": [
            "Enter the number of day old loaves bought: 15\n",
            "Regular price: 52.35\n",
            "Discount: 31.41\n",
            "Total price: 20.94\n"
          ]
        }
      ],
      "source": [
        "i = int(input(\"Enter the number of day old loaves bought: \"))\n",
        "r = 3.49 * i\n",
        "d = r * 0.6\n",
        "t = r - d\n",
        "print(\"Regular price: %5.2f\" % r)\n",
        "print(\"Discount: %5.2f\" % d)\n",
        "print(\"Total price: %5.2f\" % t)"
      ]
    },
    {
      "cell_type": "markdown",
      "metadata": {
        "id": "G-bHfLs4V6eL"
      },
      "source": [
        "##If Statement Exercises\n"
      ]
    },
    {
      "cell_type": "markdown",
      "metadata": {
        "id": "x-E1kVgSWGqH"
      },
      "source": [
        "Write a program that reads an integer from the user. Then your program should display a message indicating whether the integer is even or odd."
      ]
    },
    {
      "cell_type": "code",
      "execution_count": null,
      "metadata": {
        "colab": {
          "base_uri": "https://localhost:8080/"
        },
        "id": "hVXFHTAcWM9S",
        "outputId": "05a7671f-035a-4634-f56d-5047c8132d9e"
      },
      "outputs": [
        {
          "name": "stdout",
          "output_type": "stream",
          "text": [
            "Enter an integer: 24\n",
            "Even integer\n"
          ]
        }
      ],
      "source": [
        "i = int(input(\"Enter an integer: \"))\n",
        "if i % 2 == 0:\n",
        "  print(\"Even integer\")\n",
        "else:\n",
        "  print(\"Odd integer\")"
      ]
    },
    {
      "cell_type": "markdown",
      "metadata": {
        "id": "2cEwS-NbCiQM"
      },
      "source": [
        "It is commonly said that one human year is equivalent to 7 dog years. However this simple conversion fails to recognize that dogs reach adulthood in approximately two years. As a result, some people believe that it is better to count each of the first two human years as 10.5 dog years, and then count each additional human year as 4 dog years.\n",
        "Write a program that implements the conversion from human years to dog years described in the previous paragraph. Ensure that your program works correctly for conversions of less than two human years and for conversions of two or more human years. Your program should display an appropriate error message if the user enters a negative number."
      ]
    },
    {
      "cell_type": "code",
      "execution_count": null,
      "metadata": {
        "colab": {
          "base_uri": "https://localhost:8080/"
        },
        "id": "GAR4R5jgCy_d",
        "outputId": "43e6c7db-644c-4960-9c2f-317fb396e58d"
      },
      "outputs": [
        {
          "name": "stdout",
          "output_type": "stream",
          "text": [
            "Enter human years: 6\n",
            "26.5 Dog years\n"
          ]
        }
      ],
      "source": [
        "i = float(input(\"Enter human years: \"))\n",
        "if i < 2:\n",
        "  print(\"Error: Enter a valid value\")\n",
        "elif i == 2:\n",
        "  a = 10.5\n",
        "  print(f\"{a} Dog years\")\n",
        "else:\n",
        "  i = i - 2\n",
        "  a = 10.5 + (i * 4)\n",
        "  print(f\"{a} Dog years\")\n"
      ]
    },
    {
      "cell_type": "markdown",
      "metadata": {
        "id": "sza4U3rfEGyz"
      },
      "source": [
        "In this exercise you will create a program that reads a letter of the alphabet from the user. If the user enters a, e, i, o or u then your program should display a message indicating that the entered letter is a vowel. If the user enters y then your program should display a message indicating that sometimes y is a vowel, and sometimes y is a consonant. Otherwise your program should display a message indicating that the\n",
        "letter is a consonant."
      ]
    },
    {
      "cell_type": "code",
      "execution_count": null,
      "metadata": {
        "colab": {
          "base_uri": "https://localhost:8080/"
        },
        "id": "_pb1Qs7_FXG4",
        "outputId": "ac4c88df-22a4-4deb-dc40-5ae3fb15c4f7"
      },
      "outputs": [
        {
          "name": "stdout",
          "output_type": "stream",
          "text": [
            "Enter a letter of the alphabet: y\n",
            "Sometimes y is a vowel, and sometimes y is a consonant\n"
          ]
        }
      ],
      "source": [
        "a1 = input(\"Enter a letter of the alphabet: \")\n",
        "if a1 == 'a' or a1 == 'e' or a1 == 'i' or a1 == 'o' or a1 == 'u':\n",
        "  print(\"Entered letter is a vowel\")\n",
        "elif a1 == 'y':\n",
        "  print(\"Sometimes y is a vowel, and sometimes y is a consonant\")\n",
        "else:\n",
        "  print(\"Entered letter is a consonant\")"
      ]
    },
    {
      "cell_type": "markdown",
      "metadata": {
        "id": "4nnQhLivTjI0"
      },
      "source": [
        "Write a program that determines the name of a shape from its number of sides. Read the number of sides from the user and then report the appropriate name as part of a meaningful message. Your program should support shapes with anywhere from 3 up to (and including) 10 sides. If a number of sides outside of this range is entered then your program should display an appropriate error message.\n"
      ]
    },
    {
      "cell_type": "code",
      "execution_count": null,
      "metadata": {
        "colab": {
          "base_uri": "https://localhost:8080/"
        },
        "id": "TkrGj2KSTxDk",
        "outputId": "db0e8789-c843-4b00-80e1-5bdfcd03856d"
      },
      "outputs": [
        {
          "name": "stdout",
          "output_type": "stream",
          "text": [
            "Enter the number of sides: 4\n",
            "Rectangle\n"
          ]
        }
      ],
      "source": [
        "i = int(input(\"Enter the number of sides: \"))\n",
        "if  i == 3:\n",
        "  print(\"Traingle\")\n",
        "elif i == 4:\n",
        "  print(\"Rectangle\")\n",
        "elif i == 5:\n",
        "  print(\"Pentagon\")\n",
        "elif i == 6:\n",
        "  print(\"Hexagon\")\n",
        "elif i == 7:\n",
        "  print(\"Septagon\")\n",
        "elif i == 8:\n",
        "  print(\"Heptagon\")\n",
        "elif i == 9:\n",
        "  print(\"Nonagon\")\n",
        "elif i == 10:\n",
        "  print(\"Decagon\")\n",
        "else :\n",
        "  print(\"Please enter a valid number\")"
      ]
    },
    {
      "cell_type": "markdown",
      "metadata": {
        "id": "lwzCSqZ3W3tt"
      },
      "source": [
        "The length of a month varies from 28 to 31 days. In this exercise you will create a program that reads the name of a month from the user as a string. Then your program should display the number of days in that month. Display “28 or 29 days” for February so that leap years are addressed."
      ]
    },
    {
      "cell_type": "code",
      "execution_count": null,
      "metadata": {
        "colab": {
          "base_uri": "https://localhost:8080/"
        },
        "id": "KaWYWterXg36",
        "outputId": "a082bc40-402c-4538-f3c9-0506054a26e7"
      },
      "outputs": [
        {
          "name": "stdout",
          "output_type": "stream",
          "text": [
            "Enter a month name: February\n",
            "February has 28 or 29 days\n"
          ]
        }
      ],
      "source": [
        "i = input(\"Enter a month name: \")\n",
        "if i.lower() == 'january':\n",
        "  v = '31 days'\n",
        "elif i.lower() == 'february':\n",
        "  v = '28 or 29 days'\n",
        "elif i.lower() == 'march':\n",
        "  v = '31 days'\n",
        "elif i.lower() == 'april':\n",
        "  v = '30 days'\n",
        "elif i.lower() == 'may':\n",
        "  v = '31 days'\n",
        "elif i.lower() == 'june':\n",
        "  v = '30 days'\n",
        "elif i.lower() == 'july':\n",
        "  v = '31 days'\n",
        "elif i.lower() == 'august':\n",
        "  v = '31 days'\n",
        "elif i.lower() == 'september':\n",
        "  v = '30 days'\n",
        "elif i.lower() == 'october':\n",
        "  v = '31 days'\n",
        "elif i.lower() == 'november':\n",
        "  v = '30 days'\n",
        "elif i.lower() == 'december':\n",
        "  v = '31 days'\n",
        "\n",
        "print(f\"{i} has {v}\")"
      ]
    },
    {
      "cell_type": "markdown",
      "metadata": {
        "id": "PXJmJqs-avcS"
      },
      "source": [
        "The following table lists the sound level in decibels for several common noises.\n",
        "\n",
        "Noise Decibel level (dB)\n",
        "Jackhammer: 130\n",
        "Gas lawnmower: 106\n",
        "Alarm clock: 70\n",
        "Quiet room: 40\n",
        "\n",
        "Write a program that reads a sound level in decibels from the user. If the user enters a decibel level that matches one of the noises in the table then your program should display a message containing only that noise. If the user enters a number of decibels between the noises listed then your program should display a message indicating which noises the level is between. Ensure that your program also generates reasonable output for a value smaller than the quietest noise in the table, and for a value larger than the loudest noise in the table"
      ]
    },
    {
      "cell_type": "code",
      "execution_count": null,
      "metadata": {
        "colab": {
          "base_uri": "https://localhost:8080/"
        },
        "id": "HgtDdK3xX18G",
        "outputId": "a425676e-2759-4b54-b516-a04d53e3dfeb"
      },
      "outputs": [
        {
          "name": "stdout",
          "output_type": "stream",
          "text": [
            "Enter a decibel level: 110\n",
            "Sound level between a gas lawnmower and a jack hammer\n"
          ]
        }
      ],
      "source": [
        "i = float(input(\"Enter a decibel level: \"))\n",
        "if i < 40:\n",
        "  print(\"Insuffiecient data for this value\")\n",
        "elif i == 40:\n",
        "  print(\"Sound level equal to sound level of a quiet room\")\n",
        "elif i > 40 and i < 70:\n",
        "  print(\"Sound level between a quiet room's and an alarm clock\")\n",
        "elif i == 70:\n",
        "  print(\"Sound level equal to sound level of an alarm clock\")\n",
        "elif i > 70 and i < 106:\n",
        "   print(\"Sound level between an alarm clock and a gas lawnmower\")\n",
        "elif i == 106:\n",
        "  print(\"Sound level equal to sound level of a gas lawnmower\")\n",
        "elif i > 106 and i < 130:\n",
        "  print(\"Sound level between a gas lawnmower and a jack hammer\")\n",
        "elif i == 130:\n",
        "  print(\"Sound level equal to sound level of a jack hammer\")\n",
        "else:\n",
        "  print(\"Insufficient data for this value\")"
      ]
    },
    {
      "cell_type": "markdown",
      "metadata": {
        "id": "_9BW6V2zh41b"
      },
      "source": [
        "A triangle can be classified based on the lengths of its sides as equilateral, isosceles or scalene. All 3 sides of an equilateral triangle have the same length. An isosceles triangle has two sides that are the same length, and a third side that is a different length. If all of the sides have different lengths then the triangle is scalene.\n",
        "Write a program that reads the lengths of 3 sides of a triangle from the user. Display a message indicating the type of the triangle.\n"
      ]
    },
    {
      "cell_type": "code",
      "execution_count": null,
      "metadata": {
        "colab": {
          "base_uri": "https://localhost:8080/"
        },
        "id": "XKDua3Pei30j",
        "outputId": "2981dbc0-a138-4c66-bfb8-de3f9fb93987"
      },
      "outputs": [
        {
          "name": "stdout",
          "output_type": "stream",
          "text": [
            "Enter 3 different side length values separated by ',': 5, 5, 5\n",
            "Equilateral triangle\n"
          ]
        }
      ],
      "source": [
        "x, y, z = map(float, input(\"Enter 3 different side length values separated by ',': \").split(','))\n",
        "if x + y > z and y + z > x and z + x > y:\n",
        "  if x == y and y == z and z == x:\n",
        "    print(\"Equilateral triangle\")\n",
        "  elif x != y and y != z and z != x:\n",
        "    print(\"Scalene triangle\")\n",
        "  else:\n",
        "    print(\"Isosceles triangle\")\n",
        "else:\n",
        "  print(\"Enter valid values for the sides of a triangle\")"
      ]
    },
    {
      "cell_type": "markdown",
      "metadata": {
        "id": "VYe0s0xHk-Jo"
      },
      "source": [
        "The following table lists an octave of music notes, beginning with middle C, along with their frequencies.\n",
        "Note Frequency (Hz)\n",
        "\n",
        "C4 261.63\n",
        "\n",
        "D4 293.66\n",
        "\n",
        "E4 329.63\n",
        "\n",
        "F4 349.23\n",
        "\n",
        "G4 392.00\n",
        "\n",
        "A4 440.00\n",
        "\n",
        "B4 493.8\n",
        "\n",
        "Begin by writing a program that reads the name of a note from the user and\n",
        "displays the note’s frequency. Your program should support all of the notes listed previously.\n",
        "Once you have your program working correctly for the notes listed previously you should add support for all of the notes from C0 to C8. While this could be done by adding many additional cases to your if statement, such a solution is cumbersome, inelegant and unacceptable for the purposes of this exercise. Instead, you should exploit the relationship between notes in adjacent octaves. In particular, the frequency of any note in octave n is half the frequency of the corresponding note in octave n+1.\n",
        "By using this relationship, you should be able to add support for the additional notes without adding additional cases to your if statement."
      ]
    },
    {
      "cell_type": "code",
      "execution_count": null,
      "metadata": {
        "colab": {
          "base_uri": "https://localhost:8080/"
        },
        "id": "5IObVn4Vs1lE",
        "outputId": "82fd7f3d-bb00-4f1e-a8b2-079215f8bd42"
      },
      "outputs": [
        {
          "name": "stdout",
          "output_type": "stream",
          "text": [
            "Enter a note value: C4\n",
            "Frequency: 261.63\n"
          ]
        }
      ],
      "source": [
        "i = input(\"Enter a note value: \")\n",
        "if i[0].lower() == 'c':\n",
        "  a = 261.63 / pow(2, 4 - int(i[1]))\n",
        "  print(f\"Frequency: {a}\")\n",
        "elif i[0].lower() == 'd':\n",
        "  print(\"Frequency: 293.66\")\n",
        "elif i[0].lower() == 'e':\n",
        "  print(\"Frequency: 329.63\")\n",
        "elif i[0].lower() == 'f':\n",
        "  print(\"Frequency: 349.23\")\n",
        "elif i[0].lower() == 'g':\n",
        "  print(\"Frequency: 392.00\")\n",
        "elif i[0].lower() == 'a':\n",
        "  print(\"Frequency: 440.00\")\n",
        "elif i[0].lower() == 'b':\n",
        "  print(\"Frequency: 493.8\")"
      ]
    },
    {
      "cell_type": "markdown",
      "metadata": {
        "id": "-t50EFOcoe7G"
      },
      "source": [
        "In the previous question you converted from note name to frequency. In this question you will write a program that reverses that process. Begin by reading a frequency from the user. If the frequency is within one Hertz of a value listed in the table in the previous question then report the name of the note. Otherwise report that the frequency does not correspond to a known note. In this exercise you only need to consider the notes listed in the table. There is no need to consider notes from other\n",
        "octaves."
      ]
    },
    {
      "cell_type": "code",
      "execution_count": null,
      "metadata": {
        "colab": {
          "base_uri": "https://localhost:8080/"
        },
        "id": "89rAtFOvojCW",
        "outputId": "72bf860b-3d1c-48c0-b64e-351ed3a3b52b"
      },
      "outputs": [
        {
          "name": "stdout",
          "output_type": "stream",
          "text": [
            "Enter a frequency: 493\n",
            "B4\n"
          ]
        }
      ],
      "source": [
        "i = float(input(\"Enter a frequency: \"))\n",
        "if i >= 260.63 and i <= 262.63:\n",
        "  print(\"C4\")\n",
        "elif i>= 292.66 and i <= 294.66:\n",
        "  print(\"D4\")\n",
        "elif i>= 328.63 and i <= 330.63:\n",
        "  print(\"E4\")\n",
        "elif i>= 348.23 and i <= 350.23:\n",
        "  print(\"F4\")\n",
        "elif i>= 391.00 and i <= 393.00:\n",
        "  print(\"G4\")\n",
        "elif i>= 439.00 and i <= 441.00:\n",
        "  print(\"A4\")\n",
        "elif i>= 492.8 and i <= 494.8:\n",
        "  print(\"B4\")\n",
        "else:\n",
        "  print(\"Frequency does not correspond to a known note\")"
      ]
    },
    {
      "cell_type": "markdown",
      "metadata": {
        "id": "jiCJeoimr3n2"
      },
      "source": [
        "It is common for images of a country’s previous leaders, or other individuals of historical significance, to appear on its money. The individuals that appear on banknotes in the United States are listed in Table 2.1.\n",
        "Write a program that begins by reading the denomination of a banknote from the user. Then your program should display the name of the individual that appears on the banknote of the entered amount. An appropriate error message should be displayed if no such note exists.\n",
        "\n",
        "Individual Amount\n",
        "\n",
        "George Washington  $1\n",
        "\n",
        "Thomas Jefferson  $2\n",
        "\n",
        "Abraham Lincoln  $5\n",
        "\n",
        "Alexander Hamilton  $10\n",
        "\n",
        "Andrew Jackson  $20\n",
        "\n",
        "Ulysses S. Grant  $50\n",
        "\n",
        "Benjamin Franklin  $100"
      ]
    },
    {
      "cell_type": "code",
      "execution_count": null,
      "metadata": {
        "colab": {
          "base_uri": "https://localhost:8080/"
        },
        "id": "f6HkEB3LsYwj",
        "outputId": "6313babf-a43a-4015-e63b-11197941388d"
      },
      "outputs": [
        {
          "name": "stdout",
          "output_type": "stream",
          "text": [
            "Enter the denomination of a banknote: 5\n",
            "Abraham Lincoln\n"
          ]
        }
      ],
      "source": [
        "i = int(input(\"Enter the denomination of a banknote: \"))\n",
        "if i == 1:\n",
        "  print(\"George Washington\")\n",
        "elif i == 2:\n",
        "  print(\"Thomas Jefferson\")\n",
        "elif i == 5:\n",
        "  print(\"Abraham Lincoln\")\n",
        "elif i == 10:\n",
        "  print(\"Alexander Hamilton\")\n",
        "elif i == 20:\n",
        "  print(\"Andrew Jackson\")\n",
        "elif i == 50:\n",
        "  print(\"Ulysses S. Grant\")\n",
        "elif i == 100:\n",
        "  print(\"Benjamin Franklin\")\n",
        "else:\n",
        "  print(\"Invalid denomination\")"
      ]
    },
    {
      "cell_type": "markdown",
      "metadata": {
        "id": "tb2DOEbGtaFw"
      },
      "source": [
        "Canada has three national holidays which fall on the same dates each year.\n",
        "Holiday Date\n",
        "\n",
        "New year’s day  January 1\n",
        "\n",
        "Canada day July 1\n",
        "\n",
        "Christmas day December 25\n",
        "\n",
        "Write a program that reads a month and day from the user. If the month and day match one of the holidays listed previously then your program should display the holiday’s name. Otherwise your program should indicate that the entered month and day do not correspond to a fixed-date holiday."
      ]
    },
    {
      "cell_type": "code",
      "execution_count": null,
      "metadata": {
        "colab": {
          "base_uri": "https://localhost:8080/"
        },
        "id": "e0-6TJsEuKty",
        "outputId": "f6313d55-00d4-47cd-8ffd-5a18c9a480c4"
      },
      "outputs": [
        {
          "name": "stdout",
          "output_type": "stream",
          "text": [
            "Enter a day: 1\n",
            "Enter a month: July\n",
            "Canada day\n"
          ]
        }
      ],
      "source": [
        "i = int(input(\"Enter a day: \"))\n",
        "j = input(\"Enter a month: \")\n",
        "if i == 1:\n",
        "  if j.lower() == 'january':\n",
        "    print(\"New year's day\")\n",
        "  elif j.lower() == 'july':\n",
        "    print(\"Canada day\")\n",
        "  else:\n",
        "    print(\"Date does not correspond to a fixed holiday\")\n",
        "elif i == 25:\n",
        "  if j.lower() == 'december':\n",
        "    print(\"Christmas day\")\n",
        "  else:\n",
        "    print(\"Date does not correspond to a fixed holiday\")\n",
        "else:\n",
        "  print(\"Date does not correspond to a fixed holiday\")\n"
      ]
    },
    {
      "cell_type": "markdown",
      "metadata": {
        "id": "5gSilHj_xUZX"
      },
      "source": [
        "Positions on a chess board are identified by a letter and a number. The letter identifies the column, while the number identifies the row.\n",
        "Write a program that reads a position from the user. Use an if statement to determine if the column begins with a black square or a white square. Then use modular arithmetic to report the color of the square in that row. For example, if the user enters a1 then your program should report that the square is black. If the user enters d5 then your program should report that the square is white. Your program may assume that a valid position will always be entered. It does not need to perform any error checking."
      ]
    },
    {
      "cell_type": "code",
      "execution_count": null,
      "metadata": {
        "colab": {
          "base_uri": "https://localhost:8080/"
        },
        "id": "c7805vMWx_5y",
        "outputId": "00664af9-fdab-4450-ac00-ab448098105b"
      },
      "outputs": [
        {
          "name": "stdout",
          "output_type": "stream",
          "text": [
            "Enter the position on the chessboard: b1\n",
            "White\n"
          ]
        }
      ],
      "source": [
        "i = input(\"Enter the position on the chessboard: \")\n",
        "if (ord(i[0]) + int(i[1])) % 2 == 0: # ord() shows the ascii value of a character\n",
        "  print(\"Black\")\n",
        "else:\n",
        "  print(\"White\")"
      ]
    },
    {
      "cell_type": "markdown",
      "metadata": {
        "id": "yC1ODcQbzS5O"
      },
      "source": [
        "The year is divided into four seasons: spring, summer, fall and winter. While the exact dates that the seasons change vary a little bit from year to year because of the way that the calendar is constructed, we will use the following dates for this exercise:\n",
        "\n",
        "Season First day\n",
        "\n",
        "Spring March 20\n",
        "\n",
        "Summer June 21\n",
        "\n",
        "Fall September 22\n",
        "\n",
        "Winter December 21\n",
        "\n",
        "Create a program that reads a month and day from the user. The user will enter the name of the month as a string, followed by the day within the month as an integer. Then your program should display the season associated with the date that was entered."
      ]
    },
    {
      "cell_type": "code",
      "execution_count": null,
      "metadata": {
        "colab": {
          "base_uri": "https://localhost:8080/"
        },
        "id": "aMBYqjA35KTg",
        "outputId": "70966045-3ddd-4620-b82f-514539772e85"
      },
      "outputs": [
        {
          "name": "stdout",
          "output_type": "stream",
          "text": [
            "Enter a month: July\n",
            "Enter a day of the month: 16\n",
            "16, July is a Summer day\n"
          ]
        }
      ],
      "source": [
        "month = input(\"Enter a month: \")\n",
        "day = int(input(\"Enter a day of the month: \"))\n",
        "\n",
        "if month == 'January' or month == 'February':\n",
        "  season = \"Winter\"\n",
        "elif month == \"March\":\n",
        "  if day < 20:\n",
        "    season = \"Winter\"\n",
        "  else:\n",
        "    season = \"Winter\"\n",
        "elif month == \"April\" or month == \"May\":\n",
        "  season = \"Spring\"\n",
        "elif month == \"June\":\n",
        "  if day < 21:\n",
        "    season = \"Spring\"\n",
        "  else:\n",
        "    season = \"Summer\"\n",
        "elif month == \"August\" or month == \"July\":\n",
        "  season = \"Summer\"\n",
        "elif month == \"September\":\n",
        "  if day < 22:\n",
        "    season = \"Summer\"\n",
        "  else:\n",
        "    season = \"Fall\"\n",
        "elif month == \"October\" or month == \"November\":\n",
        "  season = \"Fall\"\n",
        "elif month == \"December\":\n",
        "  if day < 21:\n",
        "    season = \"Fall\"\n",
        "  else:\n",
        "    season = \"Winter\"\n",
        "\n",
        "print(f\"{day}, {month} is a {season} day \")"
      ]
    },
    {
      "cell_type": "markdown",
      "metadata": {
        "id": "nRT0aK-9-nJa"
      },
      "source": [
        "The horoscopes commonly reported in newspapers use the position of the sun at the time of one’s birth to try and predict the future. This system of astrology divides the year into twelve zodiac signs, as outline in the table below:\n",
        "\n",
        "Zodiac sign Date range\n",
        "\n",
        "Capricorn December 22 to January 19\n",
        "\n",
        "Aquarius January 20 to February 18\n",
        "\n",
        "Pisces February 19 to March 20\n",
        "\n",
        "Aries March 21 to April 19\n",
        "\n",
        "Taurus April 20 to May 20\n",
        "\n",
        "Gemini May 21 to June 20\n",
        "\n",
        "Cancer June 21 to July 22\n",
        "\n",
        "Leo July 23 to August 22\n",
        "\n",
        "Virgo August 23 to September 22\n",
        "\n",
        "Libra September 23 to October 22\n",
        "\n",
        "Scorpio October 23 to November 21\n",
        "\n",
        "Sagittarius November 22 to December 21\n",
        "\n",
        "Write a program that asks the user to enter his or her month and day of birth. Then your program should report the user’s zodiac sign as part of an appropriate output message.\n",
        "\n"
      ]
    },
    {
      "cell_type": "code",
      "execution_count": null,
      "metadata": {
        "colab": {
          "base_uri": "https://localhost:8080/"
        },
        "id": "lyBdeY3z_tbF",
        "outputId": "7daf0f52-ea9c-45eb-c6fb-df5d8365a410"
      },
      "outputs": [
        {
          "name": "stdout",
          "output_type": "stream",
          "text": [
            "Enter the date of birth: 6\n",
            "Enter the month: January\n",
            "6 January corresponds to Capricorn sign\n"
          ]
        }
      ],
      "source": [
        "day = int(input(\"Enter the date of birth: \"))\n",
        "month = input(\"Enter the month: \")\n",
        "\n",
        "if month == \"December\":\n",
        "  if day < 22:\n",
        "    hs = \"Sagittarius\"\n",
        "  else:\n",
        "    hs = \"Capricorn\"\n",
        "elif month == \"January\":\n",
        "  if day < 20:\n",
        "    hs = \"Capricorn\"\n",
        "  else:\n",
        "    hs = \"Aquarius\"\n",
        "elif month == \"Febrauary\":\n",
        "  if day < 19:\n",
        "    hs = \"Aquarius\"\n",
        "  else:\n",
        "    hs = \"Pisces\"\n",
        "elif month == \"March\":\n",
        "  if day < 21:\n",
        "    hs = \"Pisces\"\n",
        "  else:\n",
        "    hs = \"Aries\"\n",
        "elif month == \"April\":\n",
        "  if day < 20:\n",
        "    hs = \"Aries\"\n",
        "  else:\n",
        "    hs = \"Taurus\"\n",
        "elif month == \"May\":\n",
        "  if day < 21:\n",
        "    hs = \"Taurus\"\n",
        "  else:\n",
        "    hs = \"Gemini\"\n",
        "elif month == \"June\":\n",
        "  if day < 21:\n",
        "    hs = \"Gemini\"\n",
        "  else:\n",
        "    hs = \"Cancer\"\n",
        "elif month == \"July\":\n",
        "  if day < 23:\n",
        "    hs = \"Cancer\"\n",
        "  else:\n",
        "    hs = \"Leo\"\n",
        "elif month == \"August\":\n",
        "  if day < 23:\n",
        "    hs = \"Leo\"\n",
        "  else:\n",
        "    hs = \"Virgo\"\n",
        "elif month == \"September\":\n",
        "  if day < 23:\n",
        "    hs = \"Virgo\"\n",
        "  else:\n",
        "    hs = \"Libra\"\n",
        "elif month == \"October\":\n",
        "  if day < 23:\n",
        "    hs = \"Libra\"\n",
        "  else:\n",
        "    hs = \"Scorpio\"\n",
        "elif month == \"November\":\n",
        "  if day < 22:\n",
        "    hs = \"Scorpio\"\n",
        "  else:\n",
        "    hs = \"Sagittarius\"\n",
        "\n",
        "print(f\"{day} {month} corresponds to {hs} sign\")\n",
        "\n"
      ]
    },
    {
      "cell_type": "markdown",
      "metadata": {
        "id": "vEJ1Mk9PTNOh"
      },
      "source": [
        "\n",
        "The Chinese zodiac assigns animals to years in a 12 year cycle. One 12 year cycle is shown in the table below. The pattern repeats from there, with 2012 being another year of the dragon, and 1999 being another year of the hare.\n",
        "\n",
        "Year Animal\n",
        "\n",
        "2000 Dragon\n",
        "\n",
        "2001 Snake\n",
        "\n",
        "2002 Horse\n",
        "\n",
        "2003 Sheep\n",
        "\n",
        "2004 Monkey\n",
        "\n",
        "2005 Rooster\n",
        "\n",
        "2006 Dog\n",
        "\n",
        "2007 Pig\n",
        "\n",
        "2008 Rat\n",
        "\n",
        "2009 Ox\n",
        "\n",
        "2010 Tiger\n",
        "\n",
        "2011 Hare\n",
        "\n",
        "Write a program that reads a year from the user and displays the animal associated with that year. Your program should work correctly for any year greater than or equal to zero, not just the ones listed in the table.\n"
      ]
    },
    {
      "cell_type": "code",
      "execution_count": null,
      "metadata": {
        "colab": {
          "base_uri": "https://localhost:8080/"
        },
        "id": "qO-BHOQ3TMPo",
        "outputId": "d8e60f67-b71f-4f74-eb6a-1f1d1154eed2"
      },
      "outputs": [
        {
          "name": "stdout",
          "output_type": "stream",
          "text": [
            "Enter the year: 2013\n",
            "2013 is a year of the Snake\n"
          ]
        }
      ],
      "source": [
        "year = int(input(\"Enter the year: \"))\n",
        "if year % 12 == 0:\n",
        "  cz = \"Monkey\"\n",
        "elif year % 12 == 1:\n",
        "  cz = \"Rooster\"\n",
        "elif year % 12 == 2:\n",
        "  cz = \"Dog\"\n",
        "elif year % 12 == 3:\n",
        "  cz = \"Pig\"\n",
        "elif year % 12 == 4:\n",
        "  cz = \"Rat\"\n",
        "elif year % 12 == 5:\n",
        "  cz = \"Ox\"\n",
        "elif year % 12 == 6:\n",
        "  cz = \"Tiger\"\n",
        "elif year % 12 == 7:\n",
        "  cz = \"Hare\"\n",
        "elif year % 12 == 8:\n",
        "  cz = \"Dragon\"\n",
        "elif year % 12 == 9:\n",
        "  cz = \"Snake\"\n",
        "elif year % 12 == 10:\n",
        "  cz = \"Horse\"\n",
        "elif year % 12 == 11:\n",
        "  cz = \"Sheep\"\n",
        "\n",
        "print(f\"{year} is a year of the {cz}\")"
      ]
    },
    {
      "cell_type": "markdown",
      "metadata": {
        "id": "PXsSNTfMi7ru"
      },
      "source": [
        "The following table contains earthquake magnitude ranges on the Richter scale and their descriptors:\n",
        "\n",
        "Magnitude Descriptor\n",
        "\n",
        "Less than 2.0 Micro\n",
        "\n",
        "2.0 to less than 3.0 Very minor\n",
        "\n",
        "3.0 to less than 4.0 Minor\n",
        "\n",
        "4.0 to less than 5.0 Light\n",
        "\n",
        "5.0 to less than 6.0 Moderate\n",
        "\n",
        "6.0 to less than 7.0 Strong\n",
        "\n",
        "7.0 to less than 8.0 Major\n",
        "\n",
        "8.0 to less than 10.0 Great\n",
        "\n",
        "10.0 or more Meteoric\n",
        "\n",
        "Write a program that reads a magnitude from the user and displays the appropriate descriptor as part of a meaningful message. For example, if the user enters 5.5 then your program should indicate that a magnitude 5.5 earthquake is considered to be a moderate earthquake."
      ]
    },
    {
      "cell_type": "code",
      "execution_count": null,
      "metadata": {
        "colab": {
          "base_uri": "https://localhost:8080/"
        },
        "id": "L9x0CLwdjMYa",
        "outputId": "bc301291-6bb7-4156-ce6c-ad40c0e47f26"
      },
      "outputs": [
        {
          "name": "stdout",
          "output_type": "stream",
          "text": [
            "Enter the magnitude of the earthquake: 11\n",
            "An earthquake of magnitude 11.0 is considered to be meteoric\n"
          ]
        }
      ],
      "source": [
        "i = float(input(\"Enter the magnitude of the earthquake: \"))\n",
        "\n",
        "if i < 2:\n",
        "  j = \"micro\"\n",
        "elif i >= 2 and i < 3:\n",
        "  j = \"very minor\"\n",
        "elif i >= 3 and i < 4:\n",
        "  j = \"minor\"\n",
        "elif i >= 4 and i < 5:\n",
        "  j = \"light\"\n",
        "elif i >= 5 and i < 6:\n",
        "  j = \"moderate\"\n",
        "elif i >= 6 and i < 7:\n",
        "  j = \"strong\"\n",
        "elif i >= 7 and i < 8:\n",
        "  j = \"major\"\n",
        "elif i >= 8 and i < 10:\n",
        "  j = \"great\"\n",
        "elif i >= 10:\n",
        "  j = \"meteoric\"\n",
        "\n",
        "print(f\"An earthquake of magnitude {i} is considered to be {j}\")"
      ]
    },
    {
      "cell_type": "markdown",
      "metadata": {
        "id": "hB8XYgMymbAy"
      },
      "source": [
        "A univariate quadratic function has the form f (x) = ax^2 + bx + c, where a, b and c are constants, and a is non-zero. The roots of a quadratic function can be found by finding the values of x that satisfy the quadratic equation ax^2 + bx + c = 0. A quadratic function may have 0, 1 or 2 real roots. These roots can be computed using the quadratic formula, shown below:\n",
        "root = (−b ± √b^2 − 4ac)/2a\n",
        "The portion of the expression under the square root sign is called the discriminant. If the discriminant is negative then the quadratic equation does not have any real roots.\n",
        "If the discriminant is 0, then the equation has one real root. Otherwise the equation has two real roots, and the expression must be evaluated twice, once using a plus sign, and once using a minus sign, when computing the numerator.\n",
        "Write a program that computes the real roots of a quadratic function. Your program should begin by prompting the user for the values of a, b and c. Then it should display a message indicating the number of real roots, along with the values of the real roots\n",
        "(if any)."
      ]
    },
    {
      "cell_type": "code",
      "execution_count": null,
      "metadata": {
        "colab": {
          "base_uri": "https://localhost:8080/"
        },
        "id": "hL3frR6_nb76",
        "outputId": "b4c76d6c-70ca-426a-b4b3-b1b3b29c1a71"
      },
      "outputs": [
        {
          "name": "stdout",
          "output_type": "stream",
          "text": [
            "Enter the values of a, b and c separated by a ',': 1, -5, 6\n",
            "Two real roots:  (3.0, 2.0)\n"
          ]
        }
      ],
      "source": [
        "import math\n",
        "a, b, c = map(float, input(\"Enter the values of a, b and c separated by a ',': \").split(','))\n",
        "\n",
        "d = (pow(b, 2) - (4 * a * c))\n",
        "\n",
        "if d == 0:\n",
        "  d = math.sqrt(d)\n",
        "  print(\"One real root: \", ((d - b)//(2 * a)))\n",
        "elif d > 0:\n",
        "  d = math.sqrt(d)\n",
        "  print(\"Two real roots: \", (((d - b)//(2 * a)), ((-d - b)//(2 * a))))\n",
        "elif d < 0:\n",
        "  print(\"No real roots\")\n",
        "\n"
      ]
    },
    {
      "cell_type": "markdown",
      "metadata": {
        "id": "j0hN_1O1qXHD"
      },
      "source": [
        "At a particular university, letter grades are mapped to grade points in the following manner:\n",
        "\n",
        "Letter Grade points\n",
        "\n",
        "A+ 4.0\n",
        "\n",
        "A 4.0\n",
        "\n",
        "A− 3.7\n",
        "\n",
        "B+ 3.3\n",
        "\n",
        "B 3.0\n",
        "\n",
        "B− 2.7\n",
        "\n",
        "C+ 2.3\n",
        "\n",
        "\n",
        "C− 1.7\n",
        "\n",
        "D+ 1.3\n",
        "\n",
        "D 1.0\n",
        "\n",
        "F 0\n",
        "\n",
        "Write a program that begins by reading a letter grade from the user. Then your program should compute and display the equivalent number of grade points. Ensure that your program generates an appropriate error message if the user enters an invalid letter grade."
      ]
    },
    {
      "cell_type": "code",
      "execution_count": null,
      "metadata": {
        "colab": {
          "base_uri": "https://localhost:8080/"
        },
        "id": "OjnOYJu92tKI",
        "outputId": "62178214-5f38-4714-9fc4-964007d90fbe"
      },
      "outputs": [
        {
          "name": "stdout",
          "output_type": "stream",
          "text": [
            "Enter a letter grade: D\n",
            "1.0\n"
          ]
        }
      ],
      "source": [
        "i = input(\"Enter a letter grade: \")\n",
        "\n",
        "if i == 'A+':\n",
        "  print(\"4.0\")\n",
        "elif i == \"A\":\n",
        "  print(\"4.0\")\n",
        "elif i == \"A-\":\n",
        "  print(\"3.7\")\n",
        "elif i == \"B+\":\n",
        "  print(\"3.3\")\n",
        "elif i == \"B\":\n",
        "  print(\"3.0\")\n",
        "elif i == \"B-\":\n",
        "  print(\"2.7\")\n",
        "elif i == \"C+\":\n",
        "  print(\"2.3\")\n",
        "elif i == \"C-\":\n",
        "  print(\"1.7\")\n",
        "elif i == \"D+\":\n",
        "  print(\"1.3\")\n",
        "elif i == \"D\":\n",
        "  print(\"1.0\")\n",
        "elif i == \"F\":\n",
        "  print(\"0\")\n",
        "else:\n",
        "  print(\"Enter a valid letter grade\")\n"
      ]
    },
    {
      "cell_type": "markdown",
      "metadata": {
        "id": "eRiEOUoUdDSx"
      },
      "source": [
        "In the previous exercise you created a program that converts a letter grade into the equivalent number of grade points. In this exercise you will create a program that reverses the process and converts from a grade point value entered by the user to a letter grade. Ensure that your program handles grade point values that fall between letter grades. These should be rounded to the closest letter grade. Your program should report A+ for a 4.0 (or greater) grade point average."
      ]
    },
    {
      "cell_type": "code",
      "execution_count": null,
      "metadata": {
        "colab": {
          "base_uri": "https://localhost:8080/"
        },
        "id": "XU3gC8mw9Iqs",
        "outputId": "2dd3a6a8-977e-446c-9ab2-2d29ab3f5642"
      },
      "outputs": [
        {
          "name": "stdout",
          "output_type": "stream",
          "text": [
            "Enter a grade point value: 3.45\n",
            "B\n"
          ]
        }
      ],
      "source": [
        "i = float(input(\"Enter a grade point value: \"))\n",
        "i = round(i)\n",
        "\n",
        "if i >= 4.0:\n",
        "  print(\"A+\")\n",
        "elif i > 3.7 and i < 4.0:\n",
        "  print(\"A\")\n",
        "elif i <= 3.7 and i > 3.3:\n",
        "  print(\"A-\")\n",
        "elif i <= 3.3 and i > 3.0:\n",
        "  print(\"B+\")\n",
        "elif i <= 3.0 and i > 2.7:\n",
        "  print(\"B\")\n",
        "elif i <= 2.7 and i > 2.3:\n",
        "  print(\"B-\")\n",
        "elif i <= 2.3 and i > 1.7:\n",
        "  print(\"C+\")\n",
        "elif i <= 1.7 and i > 1.3:\n",
        "  print(\"C-\")\n",
        "elif i <= 1.3 and i > 1.0:\n",
        "  print(\"D+\")\n",
        "elif i <= 1.0 and i > 0:\n",
        "  print(\"D\")\n",
        "elif i == 0:\n",
        "  print(\"F\")\n",
        "else:\n",
        "  print(\"Enter a valid grade value\")"
      ]
    },
    {
      "cell_type": "markdown",
      "metadata": {
        "id": "HSPdmwixBW5P"
      },
      "source": [
        "At a particular company, employees are rated at the end of each year. The rating scale begins at 0.0, with higher values indicating better performance and resulting in larger raises. The value awarded to an employee is either 0.0, 0.4, or 0.6 or more. Values between 0.0 and 0.4, and between 0.4 and 0.6 are never used. The meaning associated with each rating is shown in the following table. The amount of an employee’s raise\n",
        "is $2400.00 multiplied by their rating.\n",
        "Rating Meaning\n",
        "\n",
        "0.0 Unacceptable performance\n",
        "\n",
        "0.4 Acceptable performance\n",
        "\n",
        "0.6 or more Meritorious performance\n",
        "\n",
        "Write a program that reads a rating from the user and indicates whether the performance was unacceptable, acceptable or meritorious. The amount of the employee’s raise should also be reported. Your program should display an appropriate error message if an invalid rating is entered."
      ]
    },
    {
      "cell_type": "code",
      "execution_count": null,
      "metadata": {
        "colab": {
          "base_uri": "https://localhost:8080/"
        },
        "id": "wYup-lSWBh84",
        "outputId": "35aff1dd-942b-41ea-a876-876eb2deb1cc"
      },
      "outputs": [
        {
          "name": "stdout",
          "output_type": "stream",
          "text": [
            "Enter the employee rating: 0.3\n",
            "Enter a valid rating\n"
          ]
        }
      ],
      "source": [
        "i = float(input(\"Enter the employee rating: \"))\n",
        "\n",
        "if i == 0.0:\n",
        "  print(f\"Unacceptable performance. Raise is {i * 2400}\")\n",
        "elif i == 0.4:\n",
        "  print(f\"Acceptable performance. Raise is {i * 2400}\")\n",
        "elif i >= 0.6:\n",
        "  print(f\"Meritorious performance. Raise is {i * 2400}\")\n",
        "else:\n",
        "  print(\"Enter a valid rating\")"
      ]
    },
    {
      "cell_type": "markdown",
      "metadata": {
        "id": "Nz4hs7hACuG8"
      },
      "source": [
        "The wavelength of visible light ranges from 380 to 750 nanometers (nm). While the spectrum is continuous, it is often divided into 6 colors as shown below:\n",
        "\n",
        "Color Wavelength (nm)\n",
        "\n",
        "Violet 380 to less than 450\n",
        "\n",
        "Blue 450 to less than 495\n",
        "\n",
        "Green 495 to less than 570\n",
        "\n",
        "Yellow 570 to less than 590\n",
        "\n",
        "Orange 590 to less than 620\n",
        "\n",
        "Red 620 to 750\n",
        "\n",
        "Write a program that reads a wavelength from the user and reports its color. Display an appropriate error message if the wavelength entered by the user is outside of the visible spectrum."
      ]
    },
    {
      "cell_type": "code",
      "execution_count": null,
      "metadata": {
        "colab": {
          "base_uri": "https://localhost:8080/"
        },
        "id": "o42dmvJiDA3a",
        "outputId": "42737b13-45c0-4ecb-d359-42810d82580a"
      },
      "outputs": [
        {
          "name": "stdout",
          "output_type": "stream",
          "text": [
            "Enter a wavelength(nm): 458\n",
            "Blue\n"
          ]
        }
      ],
      "source": [
        "i = float(input(\"Enter a wavelength(nm): \"))\n",
        "\n",
        "if i >= 380 and i < 450:\n",
        "  print(\"Violet\")\n",
        "elif i >= 450 and i < 495:\n",
        "  print(\"Blue\")\n",
        "elif i >= 495 and i < 570:\n",
        "  print(\"Green\")\n",
        "elif i >= 570 and i < 590:\n",
        "  print(\"Yellow\")\n",
        "elif i >= 590 and i < 620:\n",
        "  print(\"Orange\")\n",
        "elif i >= 620 and i < 750:\n",
        "  print(\"Red\")\n",
        "else:\n",
        "  print(\"Wavelength does not correspond to a colour value\")"
      ]
    },
    {
      "cell_type": "markdown",
      "metadata": {
        "id": "oJuESFGX3E0D"
      },
      "source": [
        "Electromagnetic radiation can be classified into one of 7 categories according to its frequency, as shown in the table below:\n",
        "\n",
        "Name Frequency range (Hz)\n",
        "\n",
        "Radio waves Less than 3 × 10^9\n",
        "\n",
        "Microwaves 3 × 10^9 to less than 3 × 10^12\n",
        "\n",
        "Infrared light 3 × 10^12 to less than 4.3 × 10^14\n",
        "\n",
        "Visible light 4.3 × 10^14 to less than 7.5 × 10^14\n",
        "\n",
        "Ultraviolet light 7.5 × 10^14 to less than 3 × 10^17\n",
        "\n",
        "X-rays 3 × 10^17 to less than 3 × 10^19\n",
        "\n",
        "Gamma rays 3 × 10^19 or more\n",
        "\n",
        "Write a program that reads the frequency of the radiation from the user and displays the appropriate name."
      ]
    },
    {
      "cell_type": "code",
      "execution_count": null,
      "metadata": {
        "colab": {
          "base_uri": "https://localhost:8080/"
        },
        "id": "7yrNEg_r3TAn",
        "outputId": "63afe792-9632-43ff-a7b7-62260325355e"
      },
      "outputs": [
        {
          "name": "stdout",
          "output_type": "stream",
          "text": [
            "Enter a frequency value: 4000000000000000000000\n",
            "Gamma rays\n"
          ]
        }
      ],
      "source": [
        "i = float(input(\"Enter a frequency value: \"))\n",
        "\n",
        "p = pow(10,9)\n",
        "\n",
        "if i < (3 * p):\n",
        "  print(\"Radio waves\")\n",
        "elif i >= (3 * p) and i < (3000 * p):\n",
        "  print(\"Microwaves\")\n",
        "elif i >= (3000 * p) and i < (430000 * p):\n",
        "  print(\"Infrared light\")\n",
        "elif i >= (430000 * p) and i < (750000 * p):\n",
        "  print(\"Visible light\")\n",
        "elif i >= (750000 * p) and i < (300000000 * p):\n",
        "  print(\"Ultraviolet light\")\n",
        "elif i >= (300000000 * p) and i < (30000000000 * p):\n",
        "  print(\"X-rays\")\n",
        "elif i >= (30000000000 * p):\n",
        "  print(\"Gamma rays\")\n",
        "else:\n",
        "  print(\"Enter a valid frequency value\")"
      ]
    },
    {
      "cell_type": "markdown",
      "metadata": {
        "id": "3dfwx38A51qH"
      },
      "source": [
        "A particular cell phone plan includes 50 minutes of air time and 50 text messages for 15.00 dollars a month. Each additional minute of air time costs 0.25 dollars, while additional text messages cost 0.15 dollars each. All cell phone bills include an additional charge of 0.44 dollars to support 911 call centers, and the entire bill (including the 911 charge) is subject to 5 percent sales tax.\n",
        "Write a program that reads the number of minutes and text messages used in a month from the user. Display the base charge, additional minutes charge (if any), additional text message charge (if any), the 911 fee, tax and total bill amount. Only display the additional minute and text message charges if the user incurred costs in these categories. Ensure that all of the charges are displayed using 2 decimal places."
      ]
    },
    {
      "cell_type": "code",
      "execution_count": null,
      "metadata": {
        "colab": {
          "base_uri": "https://localhost:8080/"
        },
        "id": "OCT8cbwf6KjY",
        "outputId": "13955267-e197-4ab4-b5d0-275b620a5560"
      },
      "outputs": [
        {
          "name": "stdout",
          "output_type": "stream",
          "text": [
            "Enter the airtime value(min): 45.5\n",
            "Enter the number of text messages: 56\n",
            "Additional message charge: 0.90, 911 Fee: 0.44, Base charge: 16.34, Tax: 0.82, Total: 17.16\n"
          ]
        }
      ],
      "source": [
        "i = float(input(\"Enter the airtime value(min): \"))\n",
        "j = int(input(\"Enter the number of text messages: \"))\n",
        "\n",
        "if i > 50 and j <= 50:\n",
        "  i = i - 50\n",
        "  add_at = (i * 0.25)\n",
        "  base_charge = 15 + add_at + 0.44\n",
        "  tax = (0.05 * base_charge)\n",
        "  total = base_charge + tax\n",
        "  print(f\"Additional air time: {add_at:.2f}, 911 Fee: 0.44, Base charge: {base_charge:.2f}, Tax: {tax:.2f}, Total: {total:.2f}\")\n",
        "elif i <= 50 and j > 50:\n",
        "  j = j - 50\n",
        "  add_m = (j * 0.15)\n",
        "  base_charge = 15 + add_m + 0.44\n",
        "  tax = (0.05 * base_charge)\n",
        "  total = base_charge + tax\n",
        "  print(f\"Additional message charge: {add_m:.2f}, 911 Fee: 0.44, Base charge: {base_charge:.2f}, Tax: {tax:.2f}, Total: {total:.2f}\")\n",
        "elif i > 50 and j > 50:\n",
        "  i = i - 50\n",
        "  j = j - 50\n",
        "  add_at = (i * 0.25)\n",
        "  add_m = (j * 0.15)\n",
        "  base_charge = 15 + add_m + add_at + 0.44\n",
        "  tax = (0.05 * base_charge)\n",
        "  total = base_charge + tax\n",
        "  print(f\"Additional air time: {add_at:.2f}, Additional message charge: {add_m:.2f}, 911 Fee: 0.44, Base charge: {base_charge:.2f}, Tax: {tax:.2f}, Total: {total:.2f}\")\n",
        "else:\n",
        "  base_charge = 15.44\n",
        "  tax = (0.05 * base_charge)\n",
        "  total = base_charge + tax\n",
        "  print(f\"911 Fee: 0.44, Base charge: {base_charge:.2f}, Tax: {tax:.2f}, Total: {total:.2f}\")\n",
        "\n"
      ]
    },
    {
      "cell_type": "markdown",
      "metadata": {
        "id": "htmqAGu2D5-q"
      },
      "source": [
        "Most years have 365 days. However, the time required for the Earth to orbit the Sun is actually slightly more than that. As a result, an extra day, February 29, is included in some years to correct for this difference. Such years are referred to as leap years. The rules for determining whether or not a year is a leap year follow:\n",
        "\n",
        "• Any year that is divisible by 400 is a leap year.\n",
        "\n",
        "• Of the remaining years, any year that is divisible by 100 is not a leap year.\n",
        "\n",
        "• Of the remaining years, any year that is divisible by 4 is a leap year.\n",
        "\n",
        "• All other years are not leap years.\n",
        "\n",
        "Write a program that reads a year from the user and displays a message indicating whether or not it is a leap year.\n"
      ]
    },
    {
      "cell_type": "code",
      "execution_count": null,
      "metadata": {
        "colab": {
          "base_uri": "https://localhost:8080/"
        },
        "id": "rtBnz8dgECN-",
        "outputId": "1b0612b4-071a-4dc1-d047-045227c2d297"
      },
      "outputs": [
        {
          "name": "stdout",
          "output_type": "stream",
          "text": [
            "Enter a year: 2030\n",
            "2030 is not a leap year\n"
          ]
        }
      ],
      "source": [
        "i = int(input(\"Enter a year: \"))\n",
        "\n",
        "if i % 400 == 0:\n",
        "  print(f\"{i} is a leap year\")\n",
        "elif i % 4 == 0 and i % 100 != 0:\n",
        "  print(f\"{i} is a leap year\")\n",
        "else:\n",
        "  print(f\"{i} is not a leap year\")"
      ]
    },
    {
      "cell_type": "markdown",
      "metadata": {
        "id": "CtO_iPKoLlns"
      },
      "source": [
        "Write a program that reads a date from the user and computes its immediate successor. For example, if the user enters values that represent 2013-11-18 then your program should display a message indicating that the day immediately after 2013-11-18 is 2013-11-19. If the user enters values that represent 2013-11-30 then the program should indicate that the next day is 2013-12-01. If the user enters values that represent 2013-12-31 then the program should indicate that the next day is 2014-01-01. The\n",
        "date will be entered in numeric form with three separate input statements; one for the year, one for the month, and one for the day. Ensure that your program works correctly for leap years."
      ]
    },
    {
      "cell_type": "code",
      "execution_count": null,
      "metadata": {
        "colab": {
          "base_uri": "https://localhost:8080/"
        },
        "id": "IUOojIwJNLZj",
        "outputId": "1bfd090c-6c86-45d2-f5f4-48cfc89f3e68"
      },
      "outputs": [
        {
          "name": "stdout",
          "output_type": "stream",
          "text": [
            "Enter the year: 2001\n",
            "Enter the month: 2\n",
            "Enter a day: 31\n",
            "Error: Enter a valid date\n",
            "The next date is: 2001-02-31\n"
          ]
        }
      ],
      "source": [
        "year = int(input(\"Enter the year: \"))\n",
        "month = int(input(\"Enter the month: \"))\n",
        "day = int(input(\"Enter a day: \"))\n",
        "\n",
        "if month == 1 or month == 3 or month == 5 or month == 7 or month == 8 or month == 10:\n",
        "  if day > 31:\n",
        "    print(\"Error: Enter a valid date\")\n",
        "  elif day == 31:\n",
        "    day = 1\n",
        "    month = month + 1\n",
        "  else:\n",
        "    day = day + 1\n",
        "\n",
        "\n",
        "elif month == 2:\n",
        "  if day > 29:\n",
        "    print(\"Error: Enter a valid date\")\n",
        "  elif day == 28:\n",
        "    if year % 4 == 0:\n",
        "       day = 29\n",
        "    else:\n",
        "      day = 1\n",
        "      month = 3\n",
        "  elif day == 29:\n",
        "    day = 1\n",
        "    month = 3\n",
        "  else:\n",
        "    day = day + 1\n",
        "\n",
        "elif month == 4 or month == 6 or month == 9 or month == 11:\n",
        "   if day > 30:\n",
        "    print(\"Error: Enter a valid date\")\n",
        "   elif day == 30:\n",
        "    day = 1\n",
        "    month = month + 1\n",
        "   else:\n",
        "     day = day + 1\n",
        "\n",
        "elif month == 12:\n",
        "  if day > 31:\n",
        "    print(\"Error: Enter a valid date\")\n",
        "  elif day == 31:\n",
        "    day = 1\n",
        "    month = 1\n",
        "    year = year + 1\n",
        "  else:\n",
        "    day = day + 1\n",
        "\n",
        "else:\n",
        "  print(\"Error: Enter a valid date\")\n",
        "\n",
        "\n",
        "\n",
        "date = \"%d-%02d-%02d\" %(year, month, day)\n",
        "print(f\"The next date is: {date}\")"
      ]
    },
    {
      "cell_type": "markdown",
      "metadata": {
        "id": "eTjyubsfikZ9"
      },
      "source": [
        "In a particular jurisdiction, older license plates consist of three uppercase letters followed by three numbers. When all of the license plates following that pattern had been used, the format was changed to four numbers followed by three uppercase\n",
        "letters. Write a program that begins by reading a string of characters from the user. Then your program should display a message indicating whether the characters are valid for an older style license plate or a newer style license plate. Your program should display an appropriate message if the string entered by the user is not valid for either\n",
        "style of license plate."
      ]
    },
    {
      "cell_type": "code",
      "execution_count": null,
      "metadata": {
        "colab": {
          "base_uri": "https://localhost:8080/"
        },
        "id": "Va2Oghnv01H_",
        "outputId": "5e63604f-a061-4864-83b8-deced01803ce"
      },
      "outputs": [
        {
          "name": "stdout",
          "output_type": "stream",
          "text": [
            "Enter a number plate value here: 1234ASD\n",
            "New license plate\n"
          ]
        }
      ],
      "source": [
        "number = input(\"Enter a number plate value here: \")\n",
        "\n",
        "if len(number) == 6 and number[0] >= \"A\" and number[0] <= \"Z\" and number[1] >= \"A\" and number[1] <= \"Z\" and number[2] >= \"A\" and number[2] <= \"Z\" and number[3] >= \"0\" and number[3] <= \"9\" and number[4] >= \"0\" and number[4] <= \"9\" and number[5] >= \"0\" and number[5] <= \"9\":\n",
        "  print(\"Old license plate\")\n",
        "elif len(number) == 7 and number[0] >= \"0\" and number[0] <= \"9\" and number[1] >= \"0\" and number[1] <= \"9\" and number[2] >= \"0\" and number[2] <= \"9\" and number[3] >= \"0\" and number[3] <= \"9\" and number[4] >= \"A\" and number[4] <= \"Z\" and number[5] >= \"A\" and number[5] <= \"Z\" and number[6] >= \"A\" and number[6] <= \"Z\":\n",
        "  print(\"New license plate\")\n",
        "else:\n",
        "  print(\"Enter a valid license plate number\")"
      ]
    },
    {
      "cell_type": "markdown",
      "metadata": {
        "id": "Jx9ban-f7K6J"
      },
      "source": [
        "A roulette wheel has 38 spaces on it. Of these spaces, 18 are black, 18 are red, and two are green. The green spaces are numbered 0 and 00. The red spaces are numbered 1, 3, 5, 7, 9, 12, 14, 16, 18, 19, 21, 23, 25, 27, 30 32, 34 and 36. The remaining integers between 1 and 36 are used to number the black spaces. Many different bets can be placed in roulette. We will only consider the following subset of them in this exercise:\n",
        "\n",
        "• Single number (1 to 36, 0, or 00)\n",
        "\n",
        "• Red versus Black\n",
        "\n",
        "• Odd versus Even (Note that 0 and 00 do not pay out for even)\n",
        "\n",
        "• 1 to 18 versus 19 to 36\n",
        "\n",
        "Write a program that simulates a spin of a roulette wheel by using Python’s random number generator. Display the number that was selected and all of the bets that must be payed. For example, if 13 is selected then your program should display:\n",
        "\n",
        "The spin resulted in 13...\n",
        "\n",
        "Pay 13\n",
        "\n",
        "Pay Black\n",
        "\n",
        "Pay Odd\n",
        "\n",
        "Pay 1 to 18\n",
        "\n",
        "If the simulation results in 0 or 00 then your program should display Pay 0 or Pay 00 without any further output."
      ]
    },
    {
      "cell_type": "code",
      "execution_count": null,
      "metadata": {
        "colab": {
          "base_uri": "https://localhost:8080/"
        },
        "id": "EoZaUNz7Ftc6",
        "outputId": "abd894ff-48ca-42ff-a6f5-0c1884a63552"
      },
      "outputs": [
        {
          "name": "stdout",
          "output_type": "stream",
          "text": [
            "The spin resulted in 10...\n",
            "Pay 10\n",
            "Pay Black\n",
            "Pay Even\n",
            "Pay 1 to 18\n"
          ]
        }
      ],
      "source": [
        "from random import randrange\n",
        "\n",
        "num = randrange(0, 38)\n",
        "\n",
        "if num == 37:\n",
        "  print(\"The spin resulted in 00...\")\n",
        "else:\n",
        "  print(\"The spin resulted in \" + str(num) + \"...\")\n",
        "\n",
        "if num == 37:\n",
        "  print(\"Pay 00\")\n",
        "else:\n",
        "  print(\"Pay \" + str(num))\n",
        "\n",
        "if num == 1 or num == 3 or num == 5 or num == 7 or num == 9 or num == 12 or num == 14 or num == 16 or num == 18 or num == 19 or num == 21 or num == 23 or num == 25 or num == 27 or num == 30 or num == 32 or num == 34 or num == 36:\n",
        "  print(\"Pay Red\")\n",
        "elif num == 0 or num == 37:\n",
        "  pass\n",
        "else:\n",
        "  print(\"Pay Black\")\n",
        "\n",
        "if num == 0 or num == 37:\n",
        "  pass\n",
        "elif num % 2 == 0:\n",
        "  print(\"Pay Even\")\n",
        "else:\n",
        "  print(\"Pay Odd\")\n",
        "\n",
        "if num >= 1 and num <= 18:\n",
        "  print(\"Pay 1 to 18\")\n",
        "if num >= 19 and num <= 36:\n",
        "  print(\"Pay 19 to 36\")\n",
        "\n",
        "\n"
      ]
    },
    {
      "cell_type": "markdown",
      "metadata": {
        "id": "hUNkQdesLlAt"
      },
      "source": [
        "##Loop Exercises"
      ]
    },
    {
      "cell_type": "markdown",
      "metadata": {
        "id": "huey0RyiL8Qx"
      },
      "source": [
        "In this exercise you will create a program that computes the average of a collection of values entered by the user. The user will enter 0 as a sentinel value to indicate that no further values will be provided. Your program should display an appropriate error message if the first value entered by the user is 0."
      ]
    },
    {
      "cell_type": "code",
      "execution_count": null,
      "metadata": {
        "colab": {
          "base_uri": "https://localhost:8080/"
        },
        "id": "2XioEGiUI7Nw",
        "outputId": "7c64b693-ee76-4f7b-cac2-9d99d97abfc6"
      },
      "outputs": [
        {
          "name": "stdout",
          "output_type": "stream",
          "text": [
            "Enter a number: 2\n",
            "Enter the next number: 4\n",
            "Enter the next number: 0\n",
            "The average of numbers is:  3.0\n"
          ]
        }
      ],
      "source": [
        "x = int(input(\"Enter a number: \"))\n",
        "sum = 0\n",
        "counter = 0\n",
        "if x == 0:\n",
        "  print(\"The first number should not be zero.\")\n",
        "else:\n",
        "  while x != 0:\n",
        "    sum = sum + x\n",
        "    counter = counter + 1\n",
        "    x = int(input(\"Enter the next number: \"))\n",
        "\n",
        "print(\"The average of numbers is: \", (sum / counter))\n",
        "\n"
      ]
    },
    {
      "cell_type": "markdown",
      "metadata": {
        "id": "PjcwDUXQNvQA"
      },
      "source": [
        "A particular retailer is having a 60 percent off sale on a variety of discontinued products. The retailer would like to help its customers determine the reduced price of the merchandise by having a printed discount table on the shelf that shows the original prices and the prices after the discount has been applied. Write a program that uses a loop to generate this table, showing the original price, the discount amount, and the new price for purchases of 4.95, 9.95, 14.95, 19.95 and 24.95. Ensure that the discount amounts and the new prices are rounded to 2 decimal places when they are displayed."
      ]
    },
    {
      "cell_type": "code",
      "execution_count": null,
      "metadata": {
        "colab": {
          "base_uri": "https://localhost:8080/"
        },
        "id": "jk9CUi5RW4pB",
        "outputId": "a822ae94-f49f-4dcb-fd58-54a098f6ce08"
      },
      "outputs": [
        {
          "name": "stdout",
          "output_type": "stream",
          "text": [
            "Original price:  4.95\n",
            "Discount amount:  2.97\n",
            "New price:  1.98\n",
            "\n",
            "\n",
            "Original price:  9.95\n",
            "Discount amount:  5.97\n",
            "New price:  3.98\n",
            "\n",
            "\n",
            "Original price:  14.95\n",
            "Discount amount:  8.97\n",
            "New price:  5.98\n",
            "\n",
            "\n",
            "Original price:  19.95\n",
            "Discount amount:  11.97\n",
            "New price:  7.98\n",
            "\n",
            "\n",
            "Original price:  24.95\n",
            "Discount amount:  14.97\n",
            "New price:  9.98\n",
            "\n",
            "\n"
          ]
        }
      ],
      "source": [
        "list = [4.95, 9.95, 14.95, 19.95, 24.95]\n",
        "for price in list:\n",
        "  print(\"Original price: \", price)\n",
        "  discount = (0.60 * price)\n",
        "  discount = round(discount, 2)\n",
        "  print(\"Discount amount: \", discount)\n",
        "  new_price = (price - discount)\n",
        "  new_price = round(new_price, 2)\n",
        "  print(\"New price: \", new_price)\n",
        "  print(\"\\n\")"
      ]
    },
    {
      "cell_type": "markdown",
      "metadata": {
        "id": "v-u3zQzTYKfj"
      },
      "source": [
        "Write a program that displays a temperature conversion table for degrees Celsius and degrees Fahrenheit. The table should include rows for all temperatures between 0 and 100 degrees Celsius that are multiples of 10 degrees Celsius. Include appropriate headings on your columns. The formula for converting between degrees Celsius and degrees Fahrenheit can be found on the internet."
      ]
    },
    {
      "cell_type": "code",
      "execution_count": 2,
      "metadata": {
        "colab": {
          "base_uri": "https://localhost:8080/"
        },
        "id": "JeZ2wtuWYE6d",
        "outputId": "7a98f289-3b48-4b80-be97-11161037c820"
      },
      "outputs": [
        {
          "name": "stdout",
          "output_type": "stream",
          "text": [
            "C  F\n",
            "0  32.0\n",
            "10  50.0\n",
            "20  68.0\n",
            "30  86.0\n",
            "40  104.0\n",
            "50  122.0\n",
            "60  140.0\n",
            "70  158.0\n",
            "80  176.0\n",
            "90  194.0\n"
          ]
        }
      ],
      "source": [
        "print(\"C  F\")\n",
        "for i in range(0, 100, 10):\n",
        "  print(f\"{i}  {((9/5 * i) + 32)}\")"
      ]
    },
    {
      "cell_type": "markdown",
      "metadata": {
        "id": "4x4BEqB_aCFD"
      },
      "source": [
        "February 4, 2013 was the last day that pennies were distributed by the Royal Canadian\n",
        "Mint. Now that pennies have been phased out retailers must adjust totals so that they\n",
        "are multiples of 5 cents when they are paid for with cash (credit card and debit card\n",
        "transactions continue to be charged to the penny). While retailers have some freedom\n",
        "in how they do this, most choose to round to the closest nickel.\n",
        "Write a program that reads prices from the user until a blank line is entered.\n",
        "Display the total cost of all the entered items on one line, followed by the amount\n",
        "due if the customer pays with cash on a second line. The amount due for a cash\n",
        "payment should be rounded to the nearest nickel. One way to compute the cash\n",
        "payment amount is to begin by determining how many pennies would be needed to\n",
        "pay the total. Then compute the remainder when this number of pennies is divided\n",
        "by 5. Finally, adjust the total down if the remainder is less than 2.5. Otherwise adjust\n",
        "the total up"
      ]
    },
    {
      "cell_type": "code",
      "execution_count": null,
      "metadata": {
        "id": "qdWWpCA9Z3JN"
      },
      "outputs": [],
      "source": []
    },
    {
      "cell_type": "markdown",
      "metadata": {
        "id": "Hq0YCvGPcD1K"
      },
      "source": [
        "Write a program that computes the perimeter of a polygon. Begin by reading the x and y values for the first point on the perimeter of the polygon from the user. Then continue reading pairs of x and y values until the user enters a blank line for the x-coordinate. Each time you read an additional coordinate you should compute the distance to the previous point and add it to the perimeter. When a blank line is entered for the x-coordinate your program should add the distance from the last point back to the first point to the perimeter. Then it should display the total perimeter. Sample input and output is shown below, with user input shown in bold:\n",
        "\n",
        "Enter the x part of the coordinate: 0\n",
        "Enter the y part of the coordinate: 0\n",
        "Enter the x part of the coordinate: (blank to quit): 1\n",
        "Enter the y part of the coordinate: 0\n",
        "Enter the x part of the coordinate: (blank to quit): 0\n",
        "Enter the y part of the coordinate: 1\n",
        "Enter the x part of the coordinate: (blank to quit):\n",
        "The perimeter of that polygon is 3.414213562373095"
      ]
    },
    {
      "cell_type": "code",
      "execution_count": null,
      "metadata": {},
      "outputs": [
        {
          "name": "stdout",
          "output_type": "stream",
          "text": [
            "3.414213562373095\n"
          ]
        }
      ],
      "source": [
        "from math import sqrt\n",
        "x1 = int(input(\"Enter the x part of the coordinate: \"))\n",
        "y1 = int(input(\"Enter the y part of the coordinate: \"))\n",
        "\n",
        "temp_1 = x1\n",
        "temp_2 = y1\n",
        "\n",
        "# Initialize the perimeter to be 0\n",
        "perimeter = 0\n",
        "\n",
        "temp = input(\"Enter the x part of the coordinate: (blank to quit): \")\n",
        "while temp != \"\":\n",
        "    x = int(temp)\n",
        "    y = int(input(\"Enter the y part of the coordinate: \"))\n",
        "\n",
        "    perimeter = perimeter + sqrt(pow(x - x1, 2) + pow(y - y1, 2))\n",
        "\n",
        "    x1 = x\n",
        "    y1 = y\n",
        "\n",
        "    temp = input(\"Enter the x part of the coordinate: (blank to quit): \")\n",
        "\n",
        "# Add the distance of first and the last point\n",
        "perimeter = perimeter + sqrt(pow(x - temp_1, 2) + pow(y - temp_2, 2))\n",
        "print(perimeter)"
      ]
    },
    {
      "cell_type": "markdown",
      "metadata": {},
      "source": [
        "Exercise 51 included a table that shows the conversion from letter grades to grade points at a particular academic institution. In this exercise you will compute the grade point average of an arbitrary number of letter grades entered by the user. The user will enter a blank line to indicate that all of the grades have been provided. For example, if the user enters A, followed by C+, followed by B, followed by a blank line then your program should report a grade point average of 3.1. You may find your solution to Exercise 51 helpful when completing this exercise. Your program does not need to do any error checking. It can assume that each value entered by the user will always be a valid letter grade or a blank line.\n",
        "\n",
        "Letter | Grade points\n",
        "\n",
        "A+ 4.0\n",
        "\n",
        "A 4.0\n",
        "\n",
        "A− 3.7\n",
        "\n",
        "B+ 3.3\n",
        "\n",
        "B 3.0\n",
        "\n",
        "B− 2.7\n",
        "\n",
        "C+ 2.3\n",
        "\n",
        "C− 1.7\n",
        "\n",
        "D+ 1.3\n",
        "\n",
        "D 1.0\n",
        "\n",
        "F 0"
      ]
    },
    {
      "cell_type": "code",
      "execution_count": 1,
      "metadata": {},
      "outputs": [
        {
          "name": "stdout",
          "output_type": "stream",
          "text": [
            "Grade point average of:  3.1\n"
          ]
        }
      ],
      "source": [
        "i = input(\"Enter a letter grade: \")\n",
        "\n",
        "total = 0\n",
        "counter = 0\n",
        "\n",
        "while i != \"\":\n",
        "    if i == 'A+':\n",
        "        x = 4.0\n",
        "    if i == \"A\":\n",
        "        x = 4.0\n",
        "    if i == \"A-\":\n",
        "        x = 3.7\n",
        "    if i == \"B+\":\n",
        "        x = 3.3\n",
        "    if i == \"B\":\n",
        "        x = 3.0\n",
        "    if i == \"B-\":\n",
        "        x = 2.7\n",
        "    if i == \"C+\":\n",
        "        x = 2.3\n",
        "    if i == \"C-\":\n",
        "        x = 1.7\n",
        "    if i == \"D+\":\n",
        "        x = 1.3\n",
        "    if i == \"D\":\n",
        "        x = 1.0\n",
        "    if i == \"F\":\n",
        "        x = 0\n",
        "\n",
        "    total = total + x\n",
        "    counter = counter + 1\n",
        "\n",
        "    i = input(\"Enter a letter grade: \")\n",
        "\n",
        "average = total / counter\n",
        "print(\"Grade point average of: \", average)\n",
        "\n"
      ]
    },
    {
      "cell_type": "markdown",
      "metadata": {},
      "source": [
        "A particular zoo determines the price of admission based on the age of the guest. Guests 2 years of age and less are admitted without charge. Children between 3 and 12 years of age cost $14.00. Seniors aged 65 years and over cost $18.00. Admission for all other guests is $23.00. Create a program that begins by reading the ages of all of the guests in a group from the user, with one age entered on each line. The user will enter a blank line to indicate that there are no more guests in the group. Then your program should display the admission cost for the group with an appropriate message. The cost should be displayed using two decimal places."
      ]
    },
    {
      "cell_type": "code",
      "execution_count": null,
      "metadata": {},
      "outputs": [
        {
          "name": "stdout",
          "output_type": "stream",
          "text": [
            "\n",
            "The total cost of all tickets is: 69.00\n"
          ]
        }
      ],
      "source": [
        "i = input(\"Enter the age of the guest: \")\n",
        "\n",
        "total_cost = 0\n",
        "\n",
        "while i != \"\":\n",
        "    i = int(i)\n",
        "\n",
        "    if i <= 2:\n",
        "        x = 0\n",
        "    elif i >= 3 and i <= 12:\n",
        "        x = 14\n",
        "    elif i >= 65:\n",
        "        x = 18\n",
        "    else:\n",
        "        x = 23\n",
        "\n",
        "    total_cost = total_cost + x\n",
        "\n",
        "    i = input(\"Enter the age of the guest: \")\n",
        "\n",
        "print(f\"The total cost of all tickets is: {total_cost:.2f}\")\n",
        "\n",
        "    "
      ]
    },
    {
      "cell_type": "markdown",
      "metadata": {},
      "source": [
        "A parity bit is a simple mechanism for detecting errors in data transmitted over an unreliable connection such as a telephone line. The basic idea is that an additional bit is transmitted after each group of 8 bits so that a single bit error in the transmission\n",
        "can be detected.\n",
        "Parity bits can be computed for either even parity or odd parity. If even parity is selected then the parity bit that is transmitted is chosen so that the total number of one bits transmitted (8 bits of data plus the parity bit) is even. When odd parity is selected the parity bit is chosen so that the total number of one bits transmitted is odd.\n",
        "Write a program that computes the parity bit for groups of 8 bits entered by the user using even parity. Your program should read strings containing 8 bits until the user enters a blank line. After each string is entered by the user your program should display a clear message indicating whether the parity bit should be 0 or 1. Display an appropriate error message if the user enters something other than 8 bits.\n",
        "Hint: You should read the input from the user as a string. Then you can use the count method to help you determine the number of zeros and ones in the string. Information about the count method is available online."
      ]
    },
    {
      "cell_type": "code",
      "execution_count": 7,
      "metadata": {},
      "outputs": [
        {
          "name": "stdout",
          "output_type": "stream",
          "text": [
            "The parity bit should be 0\n"
          ]
        }
      ],
      "source": [
        "x = input(\"Enter the bits: \")\n",
        "\n",
        "while x != \"\":\n",
        "    if x.count(\"1\") + x.count(\"0\") != 8 and len(x) != 8:\n",
        "        print(\"The line doesn't contain 8 bits.\")\n",
        "    else:\n",
        "        ones = x.count(\"1\")\n",
        "\n",
        "        if ones % 2 == 0:\n",
        "            print(\"The parity bit should be 0\")\n",
        "        else:\n",
        "            print(\"The parity bit should be 1\")\n",
        "            \n",
        "    x = input(\"Enter the bits: \")"
      ]
    },
    {
      "cell_type": "markdown",
      "metadata": {},
      "source": [
        "The value of π can be approximated by the following infinite series:\n",
        "π ≈ 3 + 4/(2 × 3 × 4) − 4/(4 × 5 × 6) + 4/(6 × 7 × 8) − 4/(8 × 9 × 10) + 4/(10 × 11 × 12) − · · ·\n",
        "Write a program that displays 15 approximations of π. The first approximation should make use of only the first term from the infinite series. Each additional approximation displayed by your program should include one more term in the series, making it a better approximation of π than any of the approximations displayed previously."
      ]
    },
    {
      "cell_type": "code",
      "execution_count": 15,
      "metadata": {},
      "outputs": [
        {
          "name": "stdout",
          "output_type": "stream",
          "text": [
            "The approximation of Pi is:  3.111977403189554\n"
          ]
        }
      ],
      "source": [
        "x = int(input(\"Enter the number of approximations\"))\n",
        "sum = 3\n",
        "\n",
        "for i in range(1, x):\n",
        "    if i % 2 != 0:\n",
        "        a = 2 * i\n",
        "        b = a + 1\n",
        "        c = b + 2\n",
        "        product = a * b * c\n",
        "        var = 4 / product\n",
        "        sum = sum + var\n",
        "    else:\n",
        "        a = 2 * i\n",
        "        b = a + 1\n",
        "        c = b + 2\n",
        "        product = a * b * c\n",
        "        var = 4 / product\n",
        "        sum = sum - var\n",
        "\n",
        "print(\"The approximation of Pi is: \", sum)\n",
        "\n",
        "\n",
        "\n"
      ]
    },
    {
      "cell_type": "markdown",
      "metadata": {},
      "source": [
        "One of the first known examples of encryption was used by Julius Caesar. Caesar needed to provide written instructions to his generals, but he didn’t want his enemies to learn his plans if the message slipped into their hands. As result, he developed what later became known as the Caesar Cipher. The idea behind this cipher is simple (and as a result, it provides no protection against modern code breaking techniques). Each letter in the original message is shifted by 3 places. As a result, A becomes D, B becomes E, C becomes F, D becomes G, etc. The last three letters in the alphabet are wrapped around to the beginning: X becomes A, Y becomes B and Z becomes C. Non-letter characters are not modified by the cipher.\n",
        "Write a program that implements a Caesar cipher. Allow the user to supply the message and the shift amount, and then display the shifted message. Ensure that your program encodes both uppercase and lowercase letters. Your program should also support negative shift values so that it can be used both to encode messages and decode messages."
      ]
    },
    {
      "cell_type": "code",
      "execution_count": 22,
      "metadata": {},
      "outputs": [
        {
          "name": "stdout",
          "output_type": "stream",
          "text": [
            "The new message is:  Ij\n"
          ]
        }
      ],
      "source": [
        "x = input(\"Enter the message: \")\n",
        "shift_amount = int(input(\"Enter the shoft amount: \"))\n",
        "\n",
        "encoded_message = \"\"\n",
        "for character in x:\n",
        "    if character >= \"a\" and character <= \"z\":\n",
        "        pos = ord(character) - ord(\"a\")\n",
        "        pos = (pos + shift_amount) % 26\n",
        "        new_character = chr(pos + ord('a'))\n",
        "        encoded_message = encoded_message + new_character\n",
        "    elif character >= \"A\" and character <= \"Z\":\n",
        "        pos = ord(character) - ord(\"A\")\n",
        "        pos = (pos + shift_amount) % 26\n",
        "        new_character = chr(pos + ord('A'))\n",
        "        encoded_message = encoded_message + new_character\n",
        "    else:\n",
        "        encoded_message = encoded_message + new_character\n",
        "    \n",
        "print(\"The new message is: \", encoded_message)\n"
      ]
    },
    {
      "cell_type": "markdown",
      "metadata": {},
      "source": [
        "Write a program that implements Newton’smethod to compute and display the square\n",
        "root of a number entered by the user. The algorithm for Newton’s method follows:\n",
        "Read x from the user\n",
        "Initialize guess to x/2\n",
        "While guess is not good enough do\n",
        "Update guess to be the average of guess and x/guess\n",
        "When this algorithm completes, guess contains an approximation of the square\n",
        "root. The quality of the approximation depends on how you define “good enough”.\n",
        "In the author’s solution, guess was considered good enough when the absolute value\n",
        "of the difference between guess ∗ guess and x was less than or equal to 10−12."
      ]
    },
    {
      "cell_type": "code",
      "execution_count": 28,
      "metadata": {},
      "outputs": [
        {
          "name": "stdout",
          "output_type": "stream",
          "text": [
            "The square root of the number is:  5.567764362830022\n"
          ]
        }
      ],
      "source": [
        "x = int(input(\"Input a number: \"))\n",
        "\n",
        "guess = x / 2\n",
        "\n",
        "while abs( (guess * guess) - x ) > pow(10, -12):\n",
        "    guess = (guess + x / guess) / 2\n",
        "\n",
        "print(\"The square root of the number is: \", guess)"
      ]
    },
    {
      "cell_type": "markdown",
      "metadata": {},
      "source": [
        "A string is a palindrome if it is identical forward and backward. For example “anna”, “civic”, “level” and “hannah” are all examples of palindromicwords. Write a program that reads a string from the user and uses a loop to determines whether or not it is a palindrome. Display the result, including a meaningful output message."
      ]
    },
    {
      "cell_type": "code",
      "execution_count": 36,
      "metadata": {},
      "outputs": [
        {
          "name": "stdout",
          "output_type": "stream",
          "text": [
            "The string aba is a palindrome\n"
          ]
        }
      ],
      "source": [
        "x = input(\"Enter a string: \")\n",
        "\n",
        "counter  = 0\n",
        "for i in range(0, len(x)):\n",
        "    if x[i] != x[len(x) - i - 1]:\n",
        "        counter = 1\n",
        "        break\n",
        "\n",
        "if counter == 1:\n",
        "    print(f\"The string {x} is not a palindrome\")\n",
        "else:\n",
        "    print(f\"The string {x} is a palindrome\")\n",
        "\n"
      ]
    },
    {
      "cell_type": "markdown",
      "metadata": {},
      "source": [
        "There are numerous phrases that are palindromes when spacing is ignored. Examples include “go dog”, “flee to me remote elf” and “some men interpret nine memos”, among many others. Extend your solution to Exercise 72 so that it ignores spacing while determining whether or not a string is a palindrome. For an additional challenge, extend your solution so that is also ignores punctuation marks and treats uppercase and lowercase letters as equivalent."
      ]
    },
    {
      "cell_type": "code",
      "execution_count": 38,
      "metadata": {},
      "outputs": [
        {
          "name": "stdout",
          "output_type": "stream",
          "text": [
            "The string flee to me remote elf is a palindrome\n"
          ]
        }
      ],
      "source": [
        "import re\n",
        "y = input(\"Enter a string: \")\n",
        "x = y.lower()\n",
        "x = x.replace(\" \", \"\")\n",
        "x = re.sub(r'[!()?/:;,.]', \"\", x)\n",
        "\n",
        "counter  = 0\n",
        "for i in range(0, len(x)):\n",
        "    if x[i] != x[len(x) - i - 1]:\n",
        "        counter = 1\n",
        "        break\n",
        "\n",
        "if counter == 1:\n",
        "    print(f\"The string {y} is not a palindrome\")\n",
        "else:\n",
        "    print(f\"The string {y} is a palindrome\")"
      ]
    },
    {
      "cell_type": "markdown",
      "metadata": {},
      "source": [
        "In this exercise you will create a program that displays a multiplication table that shows the products of all combinations of integers from 1 times 1 up to and including 10 times 10. Your multiplication table should include a row of labels across the top of it containing the numbers 1 through 10. It should also include labels down the left side consisting of the numbers 1 through 10. The expected output from the program is shown below:\n",
        "When completing this exercise you will probably find it helpful to be able to print out a value without moving down to the next line. This can be accomplished by added end=\"\" as the last parameter to your print statement. For example, print(\"A\") will display the letter A and then move down to the next line. The statement print(\"A\", end=\"\") will display the letter A without moving down to the next line, causing the next print statement to display its result on the same line as the letter A."
      ]
    },
    {
      "cell_type": "code",
      "execution_count": 67,
      "metadata": {},
      "outputs": [
        {
          "name": "stdout",
          "output_type": "stream",
          "text": [
            "  1 2 3 4 5 6 7 8 9 10 \n",
            "\n",
            "1 1 2 3 4 5 6 7 8 9 10 \n",
            "\n",
            "2 2 4 6 8 10 12 14 16 18 20 \n",
            "\n",
            "3 3 6 9 12 15 18 21 24 27 30 \n",
            "\n",
            "4 4 8 12 16 20 24 28 32 36 40 \n",
            "\n",
            "5 5 10 15 20 25 30 35 40 45 50 \n",
            "\n",
            "6 6 12 18 24 30 36 42 48 54 60 \n",
            "\n",
            "7 7 14 21 28 35 42 49 56 63 70 \n",
            "\n",
            "8 8 16 24 32 40 48 56 64 72 80 \n",
            "\n",
            "9 9 18 27 36 45 54 63 72 81 90 \n",
            "\n",
            "10 10 20 30 40 50 60 70 80 90 100 \n",
            "\n"
          ]
        }
      ],
      "source": [
        "print(\"  \", end=\"\")\n",
        "for i in range(1, 11):\n",
        "    print(i, end=\" \")\n",
        "print(\"\\n\")\n",
        "for i in range(1, 11):\n",
        "    print(i, end=\" \")\n",
        "    for j in range(1, 11):\n",
        "        print(i * j, end=\" \")\n",
        "    print(\"\\n\")"
      ]
    },
    {
      "cell_type": "markdown",
      "metadata": {},
      "source": [
        "The greatest common divisor of two positive integers, n and m, is the largest number, d, which divides evenly into both n and m. There are several algorithms that can be used to solve this problem, including: Initialize d to the smaller of m and n.\n",
        "While d does not evenly divide m or d does not evenly divide n do\n",
        "Decrease the value of d by 1\n",
        "Report d as the greatest common divisor of n and m\n",
        "Write a program that reads two positive integers from the user and uses this algorithm\n",
        "to determine and report their greatest common divisor."
      ]
    },
    {
      "cell_type": "code",
      "execution_count": 69,
      "metadata": {},
      "outputs": [
        {
          "name": "stdout",
          "output_type": "stream",
          "text": [
            "Greatest common divisor:  6\n"
          ]
        }
      ],
      "source": [
        "i = int(input(\"Enter the first number: \"))\n",
        "j = int(input(\"Enter the second number: \"))\n",
        "\n",
        "d = min(i, j)\n",
        "\n",
        "while i % d != 0 or j % d != 0:\n",
        "    d -= 1\n",
        "\n",
        "print(\"Greatest common divisor: \", d)"
      ]
    },
    {
      "cell_type": "markdown",
      "metadata": {},
      "source": [
        "The prime factorization of an integer, n, can be determined using the following steps:\n",
        "Initialize factor to two\n",
        "While factor is less than or equal to n do\n",
        "If n is evenly divisible by factor then\n",
        "Conclude that factor is a factor of n\n",
        "Divide n by factor using integer division\n",
        "Else\n",
        "Increase factor by one\n",
        "Write a program that reads an integer from the user. If the value entered by the user is less than 2 then your program should display an appropriate error message. Otherwise your program should display the prime numbers that can be multiplied together to compute n, with one factor appearing on each line."
      ]
    },
    {
      "cell_type": "code",
      "execution_count": 73,
      "metadata": {},
      "outputs": [
        {
          "name": "stdout",
          "output_type": "stream",
          "text": [
            "The factors of 1287 are: \n",
            "3\n",
            "3\n",
            "11\n",
            "13\n"
          ]
        }
      ],
      "source": [
        "i = int(input(\"Enter an integer  (2 or greater): \"))\n",
        "print(f\"The factors of {i} are: \")\n",
        "factor = 2\n",
        "while factor <= i:\n",
        "    if i % factor == 0:\n",
        "        print(factor)\n",
        "        i = i / factor\n",
        "    else:\n",
        "        factor += 1"
      ]
    },
    {
      "cell_type": "markdown",
      "metadata": {},
      "source": [
        "Write a program that converts a binary (base 2) number to decimal (base 10). Your program should begin by reading the binary number from the user as a string. Then it should compute the equivalent decimal number by processing each digit in the binary number. Finally, your program should display the equivalent decimal number with an appropriate message."
      ]
    },
    {
      "cell_type": "code",
      "execution_count": 79,
      "metadata": {},
      "outputs": [
        {
          "name": "stdout",
          "output_type": "stream",
          "text": [
            "The decimal number is :  85\n"
          ]
        }
      ],
      "source": [
        "j = input(\"Enter a binary number: \")\n",
        "\n",
        "sum = 0\n",
        "for i in range(0, len(j)):\n",
        "    bit = int(j[len(j) - i - 1])\n",
        "    sum = sum + (bit * pow(2, i))\n",
        "\n",
        "print(\"The decimal number is : \", sum)"
      ]
    },
    {
      "cell_type": "markdown",
      "metadata": {},
      "source": [
        "Write a program that converts a decimal (base 10) number to binary (base 2). Read the decimal number from the user as an integer and then use the division algorithm shown below to perform the conversion. When the algorithm completes, result contains the binary representation of the number. Display the result, along with an appropriate message.\n",
        "Let result be an empty string\n",
        "Let q represent the number to convert\n",
        "repeat\n",
        "Set r equal to the remainder when q is divided by 2\n",
        "Convert r to a string and add it to the beginning of result\n",
        "Divide q by 2, discarding any remainder, and store the result back into q until q is 0"
      ]
    },
    {
      "cell_type": "code",
      "execution_count": 83,
      "metadata": {},
      "outputs": [
        {
          "name": "stdout",
          "output_type": "stream",
          "text": [
            "The binary number is:  1010101\n"
          ]
        }
      ],
      "source": [
        "i = int(input(\"Enter an integer: \"))\n",
        "q = i\n",
        "result = \"\"\n",
        "while q != 0:\n",
        "    r = q % 2\n",
        "    r = str(r)\n",
        "    result = r + result\n",
        "    q = q // 2\n",
        "\n",
        "print(\"The binary number is: \", result)"
      ]
    },
    {
      "cell_type": "markdown",
      "metadata": {},
      "source": [
        "Create a program that begins by selecting a random integer between 1 and 100. Save this integer as the maximum number encountered so far. After the initial integer has been selected, generate 99 additional random integers between 1 and 100. Check each integer as it is generated to see if it is larger than the maximum number encountered so far. If it is then your program should update the maximum number encountered and count the fact that you performed an update. Display each integer after you generate it. Include a notation with those integers which represent a new maximum. After you have displayed 100 integers your program should display the maximum value encountered, along with the number of times the maximum value was updated during the process. Partial output for the program is shown below, with… representing the remaining integers that your program will display. Run your program several times. Is the number of updates performed on the maximum value what you expected?"
      ]
    },
    {
      "cell_type": "code",
      "execution_count": 91,
      "metadata": {},
      "outputs": [
        {
          "name": "stdout",
          "output_type": "stream",
          "text": [
            "53\n",
            "21\n",
            "98 <==Update\n",
            "17\n",
            "62\n",
            "10\n",
            "46\n",
            "18\n",
            "79\n",
            "67\n",
            "37\n",
            "98\n",
            "29\n",
            "51\n",
            "39\n",
            "6\n",
            "50\n",
            "29\n",
            "72\n",
            "94\n",
            "57\n",
            "44\n",
            "1\n",
            "3\n",
            "59\n",
            "17\n",
            "23\n",
            "44\n",
            "88\n",
            "78\n",
            "50\n",
            "33\n",
            "66\n",
            "3\n",
            "59\n",
            "89\n",
            "8\n",
            "30\n",
            "68\n",
            "70\n",
            "73\n",
            "16\n",
            "34\n",
            "47\n",
            "58\n",
            "63\n",
            "27\n",
            "2\n",
            "63\n",
            "15\n",
            "8\n",
            "66\n",
            "8\n",
            "36\n",
            "81\n",
            "84\n",
            "75\n",
            "44\n",
            "67\n",
            "98\n",
            "71\n",
            "35\n",
            "32\n",
            "95\n",
            "99 <==Update\n",
            "19\n",
            "82\n",
            "38\n",
            "25\n",
            "15\n",
            "58\n",
            "63\n",
            "35\n",
            "78\n",
            "68\n",
            "62\n",
            "80\n",
            "2\n",
            "18\n",
            "79\n",
            "58\n",
            "43\n",
            "88\n",
            "64\n",
            "9\n",
            "96\n",
            "49\n",
            "11\n",
            "97\n",
            "13\n",
            "23\n",
            "8\n",
            "68\n",
            "10\n",
            "45\n",
            "57\n",
            "48\n",
            "61\n",
            "96\n",
            "38\n",
            "The maximum number found was 99\n",
            "The maximum value was updated 2 times\n"
          ]
        }
      ],
      "source": [
        "from random import randint\n",
        "i = randint(1, 100)\n",
        "print(i)\n",
        "max = i\n",
        "counter  = 0\n",
        "for num in range(1, 100):\n",
        "    j = randint(1, 100)\n",
        "    if j > max:\n",
        "        counter += 1\n",
        "        max = j\n",
        "        print(j, \"<==Update\")\n",
        "    else:\n",
        "        print(j)\n",
        "\n",
        "print(f\"The maximum number found was {max}\")\n",
        "print(f\"The maximum value was updated {counter} times\")"
      ]
    },
    {
      "cell_type": "markdown",
      "metadata": {},
      "source": [
        "What’s the minimum number of times you have to flip a coin before you can have three consecutive flips that result in the same outcome (either all three are heads or all three are tails)? What’s the maximum number of flips that might be needed? How many flips are needed on average? In this exercise we will explore these questions by creating a program that simulates several series of coin flips. Create a program that uses Python’s random number generator to simulate flipping a coin several times. The simulated coin should be fair, meaning that the probability of heads is equal to the probability of tails. Your program should flip simulated coins until either 3 consecutive heads of 3 consecutive tails occur. Display an H each time the outcome is heads, and a T each time the outcome is tails, with all of the outcomes shown on the same line. Then display the number of flips needed to reach 3 consecutive flips with the same outcome. When your program is run it should perform the simulation 10 times and report the average number of flips needed."
      ]
    },
    {
      "cell_type": "code",
      "execution_count": 97,
      "metadata": {},
      "outputs": [
        {
          "name": "stdout",
          "output_type": "stream",
          "text": [
            "H T H T T H H T H H H (11 flips)\n",
            "H H T T H T T H T H T H T T H H H (17 flips)\n",
            "T H H H (4 flips)\n",
            "H H H (3 flips)\n",
            "T T T (3 flips)\n",
            "H H H (3 flips)\n",
            "T T H H H (5 flips)\n",
            "H H H (3 flips)\n",
            "H T T T (4 flips)\n",
            "T H H T H H H (7 flips)\n",
            "On average, 6.0 flips were needed\n"
          ]
        }
      ],
      "source": [
        "import random\n",
        "sum = 0\n",
        "for num in range(0, 10):\n",
        "    counter = 3\n",
        "    loop_counter = 0\n",
        "    i = random.choice([\"H\", \"T\"])\n",
        "    j = random.choice([\"H\", \"T\"])\n",
        "    k = random.choice([\"H\", \"T\"])\n",
        "    temp = i + \" \" + j + \" \" + k\n",
        "    while loop_counter != 1:\n",
        "        if  i == j and j == k and k == i:\n",
        "            loop_counter = 1\n",
        "        else:\n",
        "            counter = counter + 1\n",
        "            i = j\n",
        "            j = k\n",
        "            k = random.choice([\"H\", \"T\"])\n",
        "            temp = temp + \" \" + k\n",
        "    sum = sum + counter\n",
        "    print(f\"{temp} ({counter} flips)\")\n",
        "\n",
        "print(f\"On average, {sum / 10} flips were needed\")"
      ]
    }
  ],
  "metadata": {
    "colab": {
      "provenance": []
    },
    "kernelspec": {
      "display_name": "Python 3",
      "name": "python3"
    },
    "language_info": {
      "codemirror_mode": {
        "name": "ipython",
        "version": 3
      },
      "file_extension": ".py",
      "mimetype": "text/x-python",
      "name": "python",
      "nbconvert_exporter": "python",
      "pygments_lexer": "ipython3",
      "version": "3.11.9"
    }
  },
  "nbformat": 4,
  "nbformat_minor": 0
}
